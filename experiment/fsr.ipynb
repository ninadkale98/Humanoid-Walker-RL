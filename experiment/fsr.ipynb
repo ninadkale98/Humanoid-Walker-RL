{
 "cells": [
  {
   "cell_type": "code",
   "execution_count": 7,
   "metadata": {},
   "outputs": [],
   "source": [
    "from naoqi import ALProxy\n",
    "import almath\n",
    "import motion\n",
    "import time\n",
    "\n",
    "#ip = \"laptop-ti0kt4lp.local.\"\n",
    "ip = \"10.0.255.22\"\n",
    "port = 9559\n",
    "fractionMaxSpeed = 0.1"
   ]
  },
  {
   "cell_type": "code",
   "execution_count": 8,
   "metadata": {},
   "outputs": [],
   "source": [
    "mem_proxy = ALProxy(\"ALMemory\" , ip, port)\n",
    "mot_proxy = ALProxy(\"ALMotion\" , ip, port)\n",
    "loc_proxy = ALProxy(\"ALLocalization\" , ip, port)\n",
    "init_proxy = ALProxy(\"ALRobotPosture\" , ip, port)"
   ]
  },
  {
   "cell_type": "code",
   "execution_count": 9,
   "metadata": {},
   "outputs": [],
   "source": [
    "mot_proxy.setFallManagerEnabled(True) "
   ]
  },
  {
   "cell_type": "code",
   "execution_count": 10,
   "metadata": {},
   "outputs": [
    {
     "data": {
      "text/plain": [
       "3.8573875427246094"
      ]
     },
     "execution_count": 10,
     "metadata": {},
     "output_type": "execute_result"
    }
   ],
   "source": [
    "mem_proxy.getData(\"rightFootTotalWeight\")"
   ]
  },
  {
   "cell_type": "code",
   "execution_count": 5,
   "metadata": {},
   "outputs": [
    {
     "data": {
      "text/plain": [
       "True"
      ]
     },
     "execution_count": 5,
     "metadata": {},
     "output_type": "execute_result"
    }
   ],
   "source": [
    "mot_proxy.getFallManagerEnabled()"
   ]
  },
  {
   "cell_type": "code",
   "execution_count": 6,
   "metadata": {},
   "outputs": [
    {
     "name": "stdout",
     "output_type": "stream",
     "text": [
      "[0.011143360286951065, -0.01068199798464775, -0.12547272443771362]\n",
      "[0.01693611778318882, -0.01686892658472061, -0.12864239513874054]\n",
      "[0.010293340310454369, -0.04865528643131256, -0.12456125020980835]\n",
      "[0.020962413400411606, -0.002135328948497772, -0.1303934007883072]\n",
      "[0.005050927400588989, -0.038337599486112595, -0.12388603389263153]\n",
      "[0.009826542809605598, -0.020076245069503784, -0.1251823902130127]\n",
      "[0.029536202549934387, -0.0005654171109199524, -0.13368074595928192]\n",
      "[0.009177878499031067, -0.04458557441830635, -0.1239270493388176]\n",
      "[0.007640693336725235, -0.002298738807439804, -0.12678945064544678]\n",
      "[0.021199416369199753, -0.017203696072101593, -0.12906168401241302]\n",
      "[0.015542710199952126, -0.04640143737196922, -0.12456613034009933]\n",
      "[0.01303810440003872, -0.0015817992389202118, -0.12823425233364105]\n",
      "[-0.0009039975702762604, -0.04189557954668999, -0.12433464080095291]\n",
      "[0.017097843810915947, -0.04400153458118439, -0.12449942529201508]\n",
      "[0.022518236190080643, -0.0036428235471248627, -0.1311788111925125]\n",
      "[-0.0015087053179740906, -0.043877169489860535, -0.12408000230789185]\n",
      "[0.014084341004490852, -0.024536341428756714, -0.12530773878097534]\n",
      "[0.03087686374783516, -0.008195064961910248, -0.13197964429855347]\n",
      "[0.007981372997164726, -0.04344480484724045, -0.124325692653656]\n",
      "[0.008401395753026009, 0.0029978156089782715, -0.12867522239685059]\n",
      "[0.014092139899730682, -0.02871144562959671, -0.1261029839515686]\n",
      "[0.01769481971859932, -0.03709957003593445, -0.12424314767122269]\n",
      "[0.020334338769316673, -0.007009051740169525, -0.13044458627700806]\n",
      "[2.3467466235160828e-05, -0.046606920659542084, -0.12407822161912918]\n",
      "[0.012773118913173676, -0.0021996013820171356, -0.12817777693271637]\n",
      "[0.01673150435090065, -0.028141116723418236, -0.12565551698207855]\n",
      "[0.01664750836789608, -0.02974970079958439, -0.1243034079670906]\n",
      "[0.021514661610126495, -0.016600508242845535, -0.12912648916244507]\n",
      "[0.007541896775364876, -0.040520086884498596, -0.12457525730133057]\n",
      "[0.0163786169141531, 0.005971737205982208, -0.13170337677001953]\n",
      "[0.0019421731121838093, -0.05188446491956711, -0.12456833571195602]\n",
      "[0.019673246890306473, 0.0014266856014728546, -0.13043121993541718]\n",
      "[0.013363439589738846, -0.03306787088513374, -0.12439481914043427]\n",
      "[0.012920232489705086, -0.014964457601308823, -0.1248089075088501]\n"
     ]
    },
    {
     "ename": "KeyboardInterrupt",
     "evalue": "",
     "output_type": "error",
     "traceback": [
      "\u001b[0;31m\u001b[0m",
      "\u001b[0;31mKeyboardInterrupt\u001b[0mTraceback (most recent call last)",
      "\u001b[0;32m<ipython-input-6-54fea0ccd5b0>\u001b[0m in \u001b[0;36m<module>\u001b[0;34m()\u001b[0m\n\u001b[1;32m      2\u001b[0m     \u001b[0mx\u001b[0m \u001b[0;34m=\u001b[0m \u001b[0mmot_proxy\u001b[0m\u001b[0;34m.\u001b[0m\u001b[0mgetRobotPosition\u001b[0m\u001b[0;34m(\u001b[0m\u001b[0mTrue\u001b[0m\u001b[0;34m)\u001b[0m\u001b[0;34m\u001b[0m\u001b[0m\n\u001b[1;32m      3\u001b[0m     \u001b[0;32mprint\u001b[0m\u001b[0;34m(\u001b[0m\u001b[0mx\u001b[0m\u001b[0;34m)\u001b[0m\u001b[0;34m\u001b[0m\u001b[0m\n\u001b[0;32m----> 4\u001b[0;31m     \u001b[0mtime\u001b[0m\u001b[0;34m.\u001b[0m\u001b[0msleep\u001b[0m\u001b[0;34m(\u001b[0m\u001b[0;36m1\u001b[0m\u001b[0;34m)\u001b[0m\u001b[0;34m\u001b[0m\u001b[0m\n\u001b[0m",
      "\u001b[0;31mKeyboardInterrupt\u001b[0m: "
     ]
    }
   ],
   "source": [
    "while True:\n",
    "    x = mot_proxy.getRobotPosition(True)\n",
    "    print(x)\n",
    "    time.sleep(1)"
   ]
  },
  {
   "cell_type": "code",
   "execution_count": null,
   "metadata": {},
   "outputs": [],
   "source": [
    "mot_proxy.move(1, 0, 0)"
   ]
  },
  {
   "cell_type": "code",
   "execution_count": 9,
   "metadata": {},
   "outputs": [
    {
     "ename": "RuntimeError",
     "evalue": "\tALMotion::subscriber\n\tCan't find method: subscriber (resolved to '(s)')\n",
     "output_type": "error",
     "traceback": [
      "\u001b[0;31m\u001b[0m",
      "\u001b[0;31mRuntimeError\u001b[0mTraceback (most recent call last)",
      "\u001b[0;32m<ipython-input-9-baac5e945b1c>\u001b[0m in \u001b[0;36m<module>\u001b[0;34m()\u001b[0m\n\u001b[1;32m      7\u001b[0m \u001b[0;34m\u001b[0m\u001b[0m\n\u001b[1;32m      8\u001b[0m \u001b[0mfalling_event\u001b[0m \u001b[0;34m=\u001b[0m \u001b[0;34m\"RobotIsFalling\"\u001b[0m\u001b[0;34m\u001b[0m\u001b[0m\n\u001b[0;32m----> 9\u001b[0;31m \u001b[0mfalling_subscriber\u001b[0m \u001b[0;34m=\u001b[0m \u001b[0mmot_proxy\u001b[0m\u001b[0;34m.\u001b[0m\u001b[0msubscriber\u001b[0m\u001b[0;34m(\u001b[0m \u001b[0;34m\"onFalling\"\u001b[0m\u001b[0;34m)\u001b[0m\u001b[0;34m\u001b[0m\u001b[0m\n\u001b[0m\u001b[1;32m     10\u001b[0m \u001b[0mtouch_id\u001b[0m\u001b[0;34m=\u001b[0m \u001b[0mfalling_subscriber\u001b[0m\u001b[0;34m.\u001b[0m\u001b[0msignal\u001b[0m\u001b[0;34m.\u001b[0m\u001b[0mconnect\u001b[0m\u001b[0;34m(\u001b[0m \u001b[0monFalling\u001b[0m \u001b[0;34m)\u001b[0m\u001b[0;34m\u001b[0m\u001b[0m\n\u001b[1;32m     11\u001b[0m \u001b[0;34m\u001b[0m\u001b[0m\n",
      "\u001b[0;32m/home/hri/naoqi/pynaoqi-python2.7-2.8.6.23-linux64-20191127_152327/lib/python2.7/site-packages/naoqi.pyc\u001b[0m in \u001b[0;36m__call__\u001b[0;34m(self, *args, **kwargs)\u001b[0m\n\u001b[1;32m    192\u001b[0m                     \u001b[0mself\u001b[0m\u001b[0;34m.\u001b[0m\u001b[0m__method__\u001b[0m \u001b[0;34m=\u001b[0m \u001b[0mmethod\u001b[0m\u001b[0;34m\u001b[0m\u001b[0m\n\u001b[1;32m    193\u001b[0m                 \u001b[0;32mdef\u001b[0m \u001b[0m__call__\u001b[0m\u001b[0;34m(\u001b[0m\u001b[0mself\u001b[0m\u001b[0;34m,\u001b[0m \u001b[0;34m*\u001b[0m\u001b[0margs\u001b[0m\u001b[0;34m,\u001b[0m \u001b[0;34m**\u001b[0m\u001b[0mkwargs\u001b[0m\u001b[0;34m)\u001b[0m\u001b[0;34m:\u001b[0m\u001b[0;34m\u001b[0m\u001b[0m\n\u001b[0;32m--> 194\u001b[0;31m                     \u001b[0;32mreturn\u001b[0m \u001b[0mself\u001b[0m\u001b[0;34m.\u001b[0m\u001b[0m__wrapped__\u001b[0m\u001b[0;34m.\u001b[0m\u001b[0mmethod_missing\u001b[0m\u001b[0;34m(\u001b[0m\u001b[0mself\u001b[0m\u001b[0;34m.\u001b[0m\u001b[0m__method__\u001b[0m\u001b[0;34m,\u001b[0m \u001b[0;34m*\u001b[0m\u001b[0margs\u001b[0m\u001b[0;34m,\u001b[0m \u001b[0;34m**\u001b[0m\u001b[0mkwargs\u001b[0m\u001b[0;34m)\u001b[0m\u001b[0;34m\u001b[0m\u001b[0m\n\u001b[0m\u001b[1;32m    195\u001b[0m \u001b[0;34m\u001b[0m\u001b[0m\n\u001b[1;32m    196\u001b[0m             \u001b[0;32mreturn\u001b[0m \u001b[0mMethodMissing\u001b[0m\u001b[0;34m(\u001b[0m\u001b[0mself\u001b[0m\u001b[0;34m,\u001b[0m \u001b[0mattr\u001b[0m\u001b[0;34m)\u001b[0m\u001b[0;34m\u001b[0m\u001b[0m\n",
      "\u001b[0;32m/home/hri/naoqi/pynaoqi-python2.7-2.8.6.23-linux64-20191127_152327/lib/python2.7/site-packages/naoqi.pyc\u001b[0m in \u001b[0;36mmethod_missing\u001b[0;34m(self, method, *args, **kwargs)\u001b[0m\n\u001b[1;32m    262\u001b[0m                 \u001b[0mresult\u001b[0m \u001b[0;34m=\u001b[0m \u001b[0mself\u001b[0m\u001b[0;34m.\u001b[0m\u001b[0mpythonCall\u001b[0m\u001b[0;34m(\u001b[0m\u001b[0mlist\u001b[0m\u001b[0;34m)\u001b[0m\u001b[0;34m\u001b[0m\u001b[0m\n\u001b[1;32m    263\u001b[0m           \u001b[0;32mexcept\u001b[0m \u001b[0mRuntimeError\u001b[0m\u001b[0;34m,\u001b[0m\u001b[0me\u001b[0m\u001b[0;34m:\u001b[0m\u001b[0;34m\u001b[0m\u001b[0m\n\u001b[0;32m--> 264\u001b[0;31m                 \u001b[0;32mraise\u001b[0m \u001b[0me\u001b[0m\u001b[0;34m\u001b[0m\u001b[0m\n\u001b[0m\u001b[1;32m    265\u001b[0m                 \u001b[0;31m#print e.args[0]\u001b[0m\u001b[0;34m\u001b[0m\u001b[0;34m\u001b[0m\u001b[0m\n\u001b[1;32m    266\u001b[0m \u001b[0;34m\u001b[0m\u001b[0m\n",
      "\u001b[0;31mRuntimeError\u001b[0m: \tALMotion::subscriber\n\tCan't find method: subscriber (resolved to '(s)')\n"
     ]
    }
   ],
   "source": [
    "# Define event callback function\n",
    "def onFalling(eventName, value, subscriberIdentifier):\n",
    "    if value == 1:  # robot is falling\n",
    "        print(\"Robot is falling!\")\n",
    "    else:  # robot is not falling\n",
    "        print(\"Robot is not falling.\")\n",
    "        \n",
    "falling_event = \"RobotIsFalling\"\n",
    "falling_subscriber = mot_proxy.subscriber( \"onFalling\")\n",
    "touch_id= falling_subscriber.signal.connect( onFalling )\n",
    "\n"
   ]
  },
  {
   "cell_type": "code",
   "execution_count": 7,
   "metadata": {},
   "outputs": [
    {
     "data": {
      "text/plain": [
       "True"
      ]
     },
     "execution_count": 7,
     "metadata": {},
     "output_type": "execute_result"
    }
   ],
   "source": [
    "mot_proxy.stopMove()\n",
    "mot_proxy.killAll()\n",
    "init_proxy.goToPosture(\"StandInit\", 0.5)"
   ]
  },
  {
   "cell_type": "code",
   "execution_count": 11,
   "metadata": {},
   "outputs": [
    {
     "name": "stdout",
     "output_type": "stream",
     "text": [
      "lear\n"
     ]
    }
   ],
   "source": [
    "motionProxy  = ALProxy(\"ALMotion\", ip, port)\n",
    "localizationProxy = ALProxy(\"ALLocalization\", ip, port)\n",
    "\n",
    "# Learning home.\n",
    "ret = localizationProxy.learnHome()\n",
    "# Check that no problem occurred.\n",
    "if ret == 0:\n",
    "  print (\"lear\")\n",
    "else:\n",
    "  print (\"Error during learning \" + str(ret) )"
   ]
  },
  {
   "cell_type": "code",
   "execution_count": 13,
   "metadata": {},
   "outputs": [
    {
     "data": {
      "text/plain": [
       "True"
      ]
     },
     "execution_count": 13,
     "metadata": {},
     "output_type": "execute_result"
    }
   ],
   "source": [
    "# Make some moves.\n",
    "motionProxy.moveTo(0.5, 0.0, 0.2)"
   ]
  },
  {
   "cell_type": "code",
   "execution_count": 14,
   "metadata": {},
   "outputs": [
    {
     "name": "stdout",
     "output_type": "stream",
     "text": [
      "go to home OK\n",
      "saving OK\n"
     ]
    }
   ],
   "source": [
    "# Go back home.\n",
    "ret = localizationProxy.goToHome()\n",
    "# Check that no problem occurred.\n",
    "if ret == 0:\n",
    "  print (\"go to home OK\")\n",
    "else:\n",
    "  print (\"error during go to home \" + str(ret) )\n",
    "\n",
    "# Save the data for later use.\n",
    "ret = localizationProxy.save(\"example\")\n",
    "# Check that no problem occurred.\n",
    "if ret == 0:\n",
    "  print (\"saving OK\")\n",
    "else:\n",
    "  print (\"error during saving\" + str(ret) )"
   ]
  },
  {
   "cell_type": "code",
   "execution_count": 4,
   "metadata": {},
   "outputs": [
    {
     "name": "stdout",
     "output_type": "stream",
     "text": [
      "go to home OK\n"
     ]
    }
   ],
   "source": [
    "# Make some moves.\n",
    "motionProxy.moveTo(0.5, 0.0,- 0.2)\n",
    "\n",
    "# Go back home.\n",
    "ret = localizationProxy.goToHome()\n",
    "# Check that no problem occurred.\n",
    "if ret == 0:\n",
    "  print (\"go to home OK\")\n",
    "else:\n",
    "  print (\"error during go to home \" + str(ret) )"
   ]
  },
  {
   "cell_type": "code",
   "execution_count": null,
   "metadata": {},
   "outputs": [],
   "source": []
  }
 ],
 "metadata": {
  "kernelspec": {
   "display_name": "Python 3",
   "language": "python",
   "name": "python3"
  },
  "language_info": {
   "codemirror_mode": {
    "name": "ipython",
    "version": 2
   },
   "file_extension": ".py",
   "mimetype": "text/x-python",
   "name": "python",
   "nbconvert_exporter": "python",
   "pygments_lexer": "ipython2",
   "version": "2.7.17"
  },
  "orig_nbformat": 4
 },
 "nbformat": 4,
 "nbformat_minor": 2
}
