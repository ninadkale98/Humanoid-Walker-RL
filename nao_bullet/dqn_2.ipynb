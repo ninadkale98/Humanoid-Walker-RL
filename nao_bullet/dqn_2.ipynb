{
 "cells": [
  {
   "attachments": {},
   "cell_type": "markdown",
   "metadata": {},
   "source": [
    "## Import"
   ]
  },
  {
   "cell_type": "code",
   "execution_count": 1,
   "metadata": {},
   "outputs": [
    {
     "name": "stderr",
     "output_type": "stream",
     "text": [
      "pybullet build time: May  2 2023 05:58:25\n"
     ]
    },
    {
     "data": {
      "text/plain": [
       "<contextlib.ExitStack at 0x7f39f2e74a00>"
      ]
     },
     "execution_count": 1,
     "metadata": {},
     "output_type": "execute_result"
    }
   ],
   "source": [
    "from qibullet import SimulationManager\n",
    "from qibullet import NaoVirtual , NaoFsr\n",
    "import matplotlib.pyplot as plt\n",
    "import numpy as np\n",
    "import time\n",
    "import threading\n",
    "import torch\n",
    "import torch.nn as nn\n",
    "import torch.optim as optim\n",
    "import torch.utils.data as data_utils\n",
    "import pickle\n",
    "import random\n",
    "import matplotlib\n",
    "is_ipython = 'inline' in matplotlib.get_backend()\n",
    "if is_ipython:\n",
    "    from IPython import display\n",
    "\n",
    "plt.ion()"
   ]
  },
  {
   "cell_type": "code",
   "execution_count": 2,
   "metadata": {},
   "outputs": [
    {
     "name": "stdout",
     "output_type": "stream",
     "text": [
      "cpu  in use\n"
     ]
    }
   ],
   "source": [
    "if torch.cuda.is_available():\n",
    "  device = \"cuda\" \n",
    "else:\n",
    "  device = \"cpu\"\n",
    "print(device, \" in use\")"
   ]
  },
  {
   "attachments": {},
   "cell_type": "markdown",
   "metadata": {},
   "source": [
    "## Nao Bullet"
   ]
  },
  {
   "cell_type": "code",
   "execution_count": 3,
   "metadata": {},
   "outputs": [
    {
     "name": "stdout",
     "output_type": "stream",
     "text": [
      "startThreads creating 1 threads.\n",
      "starting thread 0\n",
      "started thread 0 \n",
      "argc=2\n",
      "argv[0] = --unused\n",
      "argv[1] = --start_demo_name=Physics Server\n",
      "ExampleBrowserThreadFunc started\n",
      "X11 functions dynamically loaded using dlopen/dlsym OK!\n",
      "X11 functions dynamically loaded using dlopen/dlsym OK!\n",
      "Creating context\n",
      "Created GL 3.3 context\n",
      "Direct GLX rendering context obtained\n",
      "Making context current\n",
      "GL_VENDOR=VMware, Inc.\n",
      "GL_RENDERER=llvmpipe (LLVM 10.0.0, 256 bits)\n",
      "GL_VERSION=3.3 (Core Profile) Mesa 20.0.8\n",
      "GL_SHADING_LANGUAGE_VERSION=3.30\n",
      "pthread_getconcurrency()=0\n",
      "Version = 3.3 (Core Profile) Mesa 20.0.8\n",
      "Vendor = VMware, Inc.\n",
      "Renderer = llvmpipe (LLVM 10.0.0, 256 bits)\n",
      "b3Printf: Selected demo: Physics Server\n",
      "startThreads creating 1 threads.\n",
      "starting thread 0\n",
      "started thread 0 \n",
      "MotionThreadFunc thread started\n"
     ]
    },
    {
     "name": "stdout",
     "output_type": "stream",
     "text": [
      "ven = VMware, Inc.\n",
      "ven = VMware, Inc.\n"
     ]
    }
   ],
   "source": [
    "# Launch Simulation Environment\n",
    "vis = True\n",
    "simulation_manager = SimulationManager()\n",
    "nao_sim = simulation_manager.launchSimulation(gui=vis, auto_step=True)\n",
    "#nao_sim_vis = simulation_manager.launchSimulation(gui=False, auto_step=True)\n",
    "simulation_manager.setGravity(nao_sim, [0.0, 0.0, -9.81])\n",
    "nao = None"
   ]
  },
  {
   "cell_type": "code",
   "execution_count": 4,
   "metadata": {},
   "outputs": [],
   "source": [
    "# Joints to monitor\n",
    "legJoints = [ \"LHipRoll\", \"LHipPitch\", \"LKneePitch\", \"LAnklePitch\", \n",
    "              \"RHipRoll\", \"RHipPitch\", \"RKneePitch\", \"RAnklePitch\", ]\n",
    "\n",
    "min_values = np.array( [-0.379472, -1.535889 , -0.092346,\t-1.189516  ,\n",
    "                         -0.790477,\t-1.535889,\t-0.103083, -1.186448 ] )\n",
    "max_values = np.array( [ 0.790477, 0.484090, 2.112528, 0.922747, \n",
    "                         0.379472, 0.484090,  2.120198, 0.932056 ] )\n",
    "\n",
    "\n",
    "#min_values = np.array( [-0.379472, -1.535889 , -0.092346,\t-1.189516 , -0.397880 ,\n",
    "#                        -0.790477, \t-1.535889,\t-0.103083, -1.186448 , -0.768992] )\n",
    "#max_values = np.array( [ 0.790477, 0.484090, 2.112528, 0.922747, 0.769001,\n",
    "#                         0.379472    , 0.484090,  2.120198, 0.932056, 0.397935] )\n",
    "\n",
    "\n",
    "bucket_width = [ 0.05, 0.1, 0.2,  0.05,\n",
    "                 0.05, 0.1, 0.2, 0.05  ]\n",
    "\n",
    "nao_prev_position_X = 0\n",
    "nao_prev_position_Y = 0\n",
    "\n",
    "fallen = False\n",
    "\n",
    "prev_weight_cntr = 0\n",
    "def env_Reward():\n",
    "    global prev_weight_cntr,fallen\n",
    "    x, y, z = nao.getPosition()\n",
    "    terminated = False\n",
    "    delX = 5*(x - nao_prev_position_X  )\n",
    "    delY = 5*(y - nao_prev_position_Y  )\n",
    "    weight = -(nao.getTotalFsrValues(NaoFsr.LFOOT) + nao.getTotalFsrValues(NaoFsr.RFOOT) )\n",
    "\n",
    "    # if robot fallen down\n",
    "    if weight == 0: \n",
    "        prev_weight_cntr += 1\n",
    "    else:\n",
    "        prev_weight_cntr = 0\n",
    "\n",
    "    if fallen and prev_weight_cntr > 10:\n",
    "        reward = -5\n",
    "        terminated = True\n",
    "        prev_weight_cntr = 0\n",
    "        #print(\"Fallen\")\n",
    "    elif  prev_weight_cntr > 50:\n",
    "        reward = -5\n",
    "        terminated = True\n",
    "        prev_weight_cntr = 0\n",
    "        #print(\"Weight\")\n",
    "    else:\n",
    "        reward = 10*delX + 2\n",
    "        terminated = False\n",
    "    \n",
    "    return reward, terminated\n",
    "\n",
    "\n",
    "def env_state():\n",
    "    return nao.getAnglesPosition(legJoints)\n",
    "    \n",
    "def env_action(angles, speed):\n",
    "    nao.setAngles(legJoints, angles ,speed)\n",
    "\n",
    "def env_itrm_step(itr):\n",
    "    for _ in range(itr):\n",
    "        simulation_manager.stepSimulation(nao_sim)\n",
    "\n",
    "def env_reset():\n",
    "    global nao_prev_position_X , nao_prev_position_Y, fallen\n",
    "    global nao\n",
    "    simulation_manager.resetSimulation(nao_sim)\n",
    "    simulation_manager.setGravity(nao_sim, [0.0, 0.0, -9.81])\n",
    "    nao = simulation_manager.spawnNao( \n",
    "    nao_sim,\n",
    "    translation=[0, 0, 0],quaternion=[0, 0, 0, 1],\n",
    "    spawn_ground_plane=True)\n",
    "    env_itrm_step(100)\n",
    "    time.sleep(2)\n",
    "    nao_prev_position_X, nao_prev_position_Y, _ = nao.getPosition()\n",
    "    fallen = False\n",
    "    t1 = threading.Thread(target= nao_fall_detect)\n",
    "    t1.start()\n",
    "\n",
    "def env_stop():\n",
    "    simulation_manager.stopSimulation(nao_sim)\n",
    "    # wait for limited iterations \n",
    "\n",
    "total_steps = 0\n",
    "max_itr = 10000\n",
    "def env_step(angles):\n",
    "    global total_steps, max_itr\n",
    "    total_steps += 1\n",
    "    env_action(angles, 0.5)\n",
    "    #env_itrm_step(50)\n",
    "    time.sleep(0.2)\n",
    "    reward, terminated = env_Reward()\n",
    "    if total_steps > max_itr :\n",
    "        reward = -100\n",
    "        truncated = True\n",
    "    truncated = False\n",
    "    next_state = env_state()\n",
    "    return next_state, reward, terminated , truncated\n",
    "\n",
    "def nao_fall_detect():\n",
    "    global fallen, nao\n",
    "    nao.subscribeImu(frequency=100)\n",
    "    \n",
    "    while True:\n",
    "        acc = nao.getImuAccelerometerValues()\n",
    "        gyr = nao.getImuGyroscopeValues()\n",
    "        gyr = list(gyr)\n",
    "        acc = list(acc)\n",
    "        if gyr[1] < -3 or acc[2]<-5:\n",
    "            fallen = True\n",
    "        time.sleep(0.1)\n",
    "        if fallen:\n",
    "            break\n",
    "\n",
    "\n",
    "env_reset()\n"
   ]
  },
  {
   "cell_type": "code",
   "execution_count": 13,
   "metadata": {},
   "outputs": [
    {
     "name": "stdout",
     "output_type": "stream",
     "text": [
      "numActiveThreads = 0\n",
      "stopping threads\n",
      "Thread with taskId 0 exiting\n",
      "Thread TERMINATED\n",
      "destroy semaphore\n",
      "semaphore destroyed\n",
      "destroy main semaphore\n",
      "main semaphore destroyed\n",
      "finished\n",
      "numActiveThreads = 0\n",
      "btShutDownExampleBrowser stopping threads\n",
      "Thread with taskId 0 exiting\n",
      "Thread TERMINATED\n",
      "destroy semaphore\n",
      "semaphore destroyed\n",
      "destroy main semaphore\n",
      "main semaphore destroyed\n"
     ]
    }
   ],
   "source": [
    "env_stop()"
   ]
  },
  {
   "attachments": {},
   "cell_type": "markdown",
   "metadata": {},
   "source": [
    "## Agent"
   ]
  },
  {
   "cell_type": "code",
   "execution_count": 5,
   "metadata": {},
   "outputs": [],
   "source": [
    "## Agent \n",
    "class walk_Agent:\n",
    "  def __init__(self, observation_space, action_space , epsilon, epsilon_decay):\n",
    "    self.observation_space = observation_space\n",
    "    self.action_space = action_space\n",
    "    self.epsilon = epsilon\n",
    "    self.epsilon_decay = epsilon_decay\n",
    "    self.epsilon_array = list()\n",
    "    self.epsilon_min = 0.35\n",
    "\n",
    "  def step(self, obs, policy, Q):\n",
    "    self.epsilon = max ( self.epsilon * self.epsilon_decay , self.epsilon_min)\n",
    "    self.epsilon_array.append(self.epsilon)\n",
    "\n",
    "    if policy == \"e-greedy\":\n",
    "\n",
    "      if np.random.uniform() > self.epsilon:\n",
    "    \n",
    "        next_obs = []\n",
    "        act = []\n",
    "        for i in range(self.observation_space):\n",
    "          idx = np.argmax( [ Q[3*i] , Q[3*i + 1], Q[3*i + 2] ])\n",
    "          if idx == 0:\n",
    "            next_obs.append( obs[i] + bucket_width[i])\n",
    "            act.append(0)\n",
    "\n",
    "          elif idx == 1:\n",
    "            next_obs.append( obs[i] )\n",
    "            act.append(1)\n",
    "\n",
    "          elif idx == 2:\n",
    "            next_obs.append( obs[i] - bucket_width[i])\n",
    "            act.append(2)\n",
    "          \n",
    "      else:\n",
    "\n",
    "        act = []\n",
    "        next_obs = []\n",
    "        for i,  elem in enumerate(obs) :\n",
    "\n",
    "          rnd_act = random.choice([ 0.1, 0, -0.1])\n",
    "          \n",
    "          if rnd_act == 0.1:\n",
    "            next_obs.append(elem + bucket_width[i])\n",
    "            act.append(0)\n",
    "          \n",
    "          elif rnd_act == 0:\n",
    "            next_obs.append(elem)\n",
    "            act.append(1)\n",
    "          \n",
    "          else:\n",
    "            next_obs.append(elem - bucket_width[i])\n",
    "            act.append(2)\n",
    "      \n",
    "        \n",
    "      return next_obs , act\n",
    "\n",
    "    elif policy == \"random\":\n",
    "      return np.random.choice(self.action_space.n)\n",
    "\n",
    "    elif policy == \"optimal\":\n",
    "      return np.argmax(Q)\n",
    "  \n",
    "  def give_epsilon_history(self):\n",
    "    return self.epsilon_array"
   ]
  },
  {
   "cell_type": "code",
   "execution_count": null,
   "metadata": {},
   "outputs": [],
   "source": []
  },
  {
   "attachments": {},
   "cell_type": "markdown",
   "metadata": {},
   "source": [
    "## DQN"
   ]
  },
  {
   "cell_type": "code",
   "execution_count": 6,
   "metadata": {},
   "outputs": [
    {
     "name": "stdout",
     "output_type": "stream",
     "text": [
      "Observation :  [[ 0.11868434  0.12745781 -0.09229428  0.08735427 -0.11897618  0.12781364\n",
      "  -0.09231556  0.08691113]]\n",
      "Q Values from Action Value :  [[-0.01990263 -0.0321039   0.03056462  0.06915461  0.0548202   0.02683911\n",
      "   0.00794177 -0.06615549 -0.03589408 -0.07214473 -0.04553242  0.01414703\n",
      "  -0.08869927  0.10940303  0.06535514 -0.00701068  0.02077129  0.01893893\n",
      "  -0.07349551 -0.07539744  0.05524734  0.03329943 -0.02906109 -0.06326863]]\n",
      "Q Values from Target Action :  [[-0.01990263 -0.0321039   0.03056462  0.06915461  0.0548202   0.02683911\n",
      "   0.00794177 -0.06615549 -0.03589408 -0.07214473 -0.04553242  0.01414703\n",
      "  -0.08869927  0.10940303  0.06535514 -0.00701068  0.02077129  0.01893893\n",
      "  -0.07349551 -0.07539744  0.05524734  0.03329943 -0.02906109 -0.06326863]]\n"
     ]
    }
   ],
   "source": [
    "### Paramters\n",
    "epsilon = 1\n",
    "gamma = 0.9\n",
    "epsilon_decay = 0.9999\n",
    "\n",
    "observation_space = 8\n",
    "action_space= 16\n",
    "\n",
    "## Environment Initialisation\n",
    "agent = walk_Agent(observation_space, action_space, epsilon, epsilon_decay)\n",
    "\n",
    "env_reset()\n",
    "terminated = False\n",
    "\n",
    "\n",
    "# Define Action Value model\n",
    "class DQN_AV(nn.Module):\n",
    "    def __init__(self):\n",
    "        super().__init__()\n",
    "        self.network_arch = nn.Sequential(\n",
    "            nn.Linear(observation_space, 128),\n",
    "            nn.ReLU(),\n",
    "            nn.Linear(128, 128),\n",
    "            nn.ReLU(),\n",
    "            nn.Linear(128, 3*observation_space)\n",
    "        )\n",
    "\n",
    "    def forward(self, x):\n",
    "        out = self.network_arch(x)\n",
    "        return out\n",
    "\n",
    "AV = DQN_AV().to(device)\n",
    "#print(model)\n",
    "\n",
    "\n",
    "# Define Target Action model\n",
    "class DQN_TA(nn.Module):\n",
    "    def __init__(self):\n",
    "        super().__init__()\n",
    "        self.network_arch = nn.Sequential(\n",
    "            nn.Linear(observation_space, 128),\n",
    "            nn.ReLU(),\n",
    "            nn.Linear(128, 128),\n",
    "            nn.ReLU(),\n",
    "            nn.Linear(128, 3*observation_space)\n",
    "        )\n",
    "\n",
    "    def forward(self, x):\n",
    "        out = self.network_arch(x)\n",
    "        return out\n",
    "\n",
    "TA = DQN_TA().to(device)\n",
    "#print(model)\n",
    "\n",
    "TA.load_state_dict(AV.state_dict())\n",
    "\n",
    "# BEGIN_YOUR_CODE\n",
    "observation = env_state()\n",
    "observation = np.array([observation], dtype='float32')\n",
    "\n",
    "input = torch.from_numpy(observation)\n",
    "print(\"Observation : \" , observation)\n",
    "\n",
    "out = AV(input)\n",
    "print(\"Q Values from Action Value : \", out.detach().numpy())\n",
    "\n",
    "out = TA(input)\n",
    "print(\"Q Values from Target Action : \", out.detach().numpy())"
   ]
  },
  {
   "attachments": {},
   "cell_type": "markdown",
   "metadata": {},
   "source": [
    "## Train"
   ]
  },
  {
   "cell_type": "code",
   "execution_count": 7,
   "metadata": {},
   "outputs": [
    {
     "ename": "KeyboardInterrupt",
     "evalue": "",
     "output_type": "error",
     "traceback": [
      "\u001b[0;31m---------------------------------------------------------------------------\u001b[0m",
      "\u001b[0;31mKeyboardInterrupt\u001b[0m                         Traceback (most recent call last)",
      "\u001b[1;32m/home/hri/cse546_proj/nao_bullet/dqn_2.ipynb Cell 14\u001b[0m in \u001b[0;36m<cell line: 38>\u001b[0;34m()\u001b[0m\n\u001b[1;32m     <a href='vscode-notebook-cell://wsl%2Bubuntu-18.04/home/hri/cse546_proj/nao_bullet/dqn_2.ipynb#X16sdnNjb2RlLXJlbW90ZQ%3D%3D?line=85'>86</a>\u001b[0m       fallen \u001b[39m=\u001b[39m \u001b[39mFalse\u001b[39;00m\n\u001b[1;32m     <a href='vscode-notebook-cell://wsl%2Bubuntu-18.04/home/hri/cse546_proj/nao_bullet/dqn_2.ipynb#X16sdnNjb2RlLXJlbW90ZQ%3D%3D?line=86'>87</a>\u001b[0m       \u001b[39mbreak\u001b[39;00m\n\u001b[0;32m---> <a href='vscode-notebook-cell://wsl%2Bubuntu-18.04/home/hri/cse546_proj/nao_bullet/dqn_2.ipynb#X16sdnNjb2RlLXJlbW90ZQ%3D%3D?line=89'>90</a>\u001b[0m env_reset()\n\u001b[1;32m     <a href='vscode-notebook-cell://wsl%2Bubuntu-18.04/home/hri/cse546_proj/nao_bullet/dqn_2.ipynb#X16sdnNjb2RlLXJlbW90ZQ%3D%3D?line=90'>91</a>\u001b[0m obs \u001b[39m=\u001b[39m env_state()\n\u001b[1;32m     <a href='vscode-notebook-cell://wsl%2Bubuntu-18.04/home/hri/cse546_proj/nao_bullet/dqn_2.ipynb#X16sdnNjb2RlLXJlbW90ZQ%3D%3D?line=91'>92</a>\u001b[0m obs \u001b[39m=\u001b[39m np\u001b[39m.\u001b[39marray([obs], dtype\u001b[39m=\u001b[39m\u001b[39m'\u001b[39m\u001b[39mfloat32\u001b[39m\u001b[39m'\u001b[39m)\n",
      "\u001b[1;32m/home/hri/cse546_proj/nao_bullet/dqn_2.ipynb Cell 14\u001b[0m in \u001b[0;36menv_reset\u001b[0;34m()\u001b[0m\n\u001b[1;32m     <a href='vscode-notebook-cell://wsl%2Bubuntu-18.04/home/hri/cse546_proj/nao_bullet/dqn_2.ipynb#X16sdnNjb2RlLXJlbW90ZQ%3D%3D?line=69'>70</a>\u001b[0m simulation_manager\u001b[39m.\u001b[39mresetSimulation(nao_sim)\n\u001b[1;32m     <a href='vscode-notebook-cell://wsl%2Bubuntu-18.04/home/hri/cse546_proj/nao_bullet/dqn_2.ipynb#X16sdnNjb2RlLXJlbW90ZQ%3D%3D?line=70'>71</a>\u001b[0m simulation_manager\u001b[39m.\u001b[39msetGravity(nao_sim, [\u001b[39m0.0\u001b[39m, \u001b[39m0.0\u001b[39m, \u001b[39m-\u001b[39m\u001b[39m9.81\u001b[39m])\n\u001b[0;32m---> <a href='vscode-notebook-cell://wsl%2Bubuntu-18.04/home/hri/cse546_proj/nao_bullet/dqn_2.ipynb#X16sdnNjb2RlLXJlbW90ZQ%3D%3D?line=71'>72</a>\u001b[0m nao \u001b[39m=\u001b[39m simulation_manager\u001b[39m.\u001b[39;49mspawnNao( \n\u001b[1;32m     <a href='vscode-notebook-cell://wsl%2Bubuntu-18.04/home/hri/cse546_proj/nao_bullet/dqn_2.ipynb#X16sdnNjb2RlLXJlbW90ZQ%3D%3D?line=72'>73</a>\u001b[0m nao_sim,\n\u001b[1;32m     <a href='vscode-notebook-cell://wsl%2Bubuntu-18.04/home/hri/cse546_proj/nao_bullet/dqn_2.ipynb#X16sdnNjb2RlLXJlbW90ZQ%3D%3D?line=73'>74</a>\u001b[0m translation\u001b[39m=\u001b[39;49m[\u001b[39m0\u001b[39;49m, \u001b[39m0\u001b[39;49m, \u001b[39m0\u001b[39;49m],quaternion\u001b[39m=\u001b[39;49m[\u001b[39m0\u001b[39;49m, \u001b[39m0\u001b[39;49m, \u001b[39m0\u001b[39;49m, \u001b[39m1\u001b[39;49m],\n\u001b[1;32m     <a href='vscode-notebook-cell://wsl%2Bubuntu-18.04/home/hri/cse546_proj/nao_bullet/dqn_2.ipynb#X16sdnNjb2RlLXJlbW90ZQ%3D%3D?line=74'>75</a>\u001b[0m spawn_ground_plane\u001b[39m=\u001b[39;49m\u001b[39mTrue\u001b[39;49;00m)\n\u001b[1;32m     <a href='vscode-notebook-cell://wsl%2Bubuntu-18.04/home/hri/cse546_proj/nao_bullet/dqn_2.ipynb#X16sdnNjb2RlLXJlbW90ZQ%3D%3D?line=75'>76</a>\u001b[0m env_itrm_step(\u001b[39m100\u001b[39m)\n\u001b[1;32m     <a href='vscode-notebook-cell://wsl%2Bubuntu-18.04/home/hri/cse546_proj/nao_bullet/dqn_2.ipynb#X16sdnNjb2RlLXJlbW90ZQ%3D%3D?line=76'>77</a>\u001b[0m time\u001b[39m.\u001b[39msleep(\u001b[39m2\u001b[39m)\n",
      "File \u001b[0;32m~/.local/lib/python3.8/site-packages/qibullet/simulation_manager.py:233\u001b[0m, in \u001b[0;36mSimulationManager.spawnNao\u001b[0;34m(self, physics_client, translation, quaternion, spawn_ground_plane)\u001b[0m\n\u001b[1;32m    230\u001b[0m \u001b[39mif\u001b[39;00m spawn_ground_plane:\n\u001b[1;32m    231\u001b[0m     \u001b[39mself\u001b[39m\u001b[39m.\u001b[39m_spawnGroundPlane(physics_client)\n\u001b[0;32m--> 233\u001b[0m nao_virtual\u001b[39m.\u001b[39;49mloadRobot(\n\u001b[1;32m    234\u001b[0m     translation,\n\u001b[1;32m    235\u001b[0m     quaternion,\n\u001b[1;32m    236\u001b[0m     physicsClientId\u001b[39m=\u001b[39;49mphysics_client)\n\u001b[1;32m    238\u001b[0m \u001b[39mreturn\u001b[39;00m nao_virtual\n",
      "File \u001b[0;32m~/.local/lib/python3.8/site-packages/qibullet/nao_virtual.py:74\u001b[0m, in \u001b[0;36mNaoVirtual.loadRobot\u001b[0;34m(self, translation, quaternion, physicsClientId)\u001b[0m\n\u001b[1;32m     71\u001b[0m \u001b[39m# Add 0.36 meters on the z component, avoing to spawn NAO in the ground\u001b[39;00m\n\u001b[1;32m     72\u001b[0m translation \u001b[39m=\u001b[39m [translation[\u001b[39m0\u001b[39m], translation[\u001b[39m1\u001b[39m], translation[\u001b[39m2\u001b[39m] \u001b[39m+\u001b[39m \u001b[39m0.36\u001b[39m]\n\u001b[0;32m---> 74\u001b[0m RobotVirtual\u001b[39m.\u001b[39;49mloadRobot(\n\u001b[1;32m     75\u001b[0m     \u001b[39mself\u001b[39;49m,\n\u001b[1;32m     76\u001b[0m     translation,\n\u001b[1;32m     77\u001b[0m     quaternion,\n\u001b[1;32m     78\u001b[0m     physicsClientId\u001b[39m=\u001b[39;49mphysicsClientId)\n\u001b[1;32m     80\u001b[0m balance_constraint \u001b[39m=\u001b[39m pybullet\u001b[39m.\u001b[39mcreateConstraint(\n\u001b[1;32m     81\u001b[0m     parentBodyUniqueId\u001b[39m=\u001b[39m\u001b[39mself\u001b[39m\u001b[39m.\u001b[39mrobot_model,\n\u001b[1;32m     82\u001b[0m     parentLinkIndex\u001b[39m=\u001b[39m\u001b[39m-\u001b[39m\u001b[39m1\u001b[39m,\n\u001b[0;32m   (...)\u001b[0m\n\u001b[1;32m     90\u001b[0m     childFrameOrientation\u001b[39m=\u001b[39mquaternion,\n\u001b[1;32m     91\u001b[0m     physicsClientId\u001b[39m=\u001b[39m\u001b[39mself\u001b[39m\u001b[39m.\u001b[39mphysics_client)\n\u001b[1;32m     93\u001b[0m \u001b[39mself\u001b[39m\u001b[39m.\u001b[39mgoToPosture(\u001b[39m\"\u001b[39m\u001b[39mStand\u001b[39m\u001b[39m\"\u001b[39m, \u001b[39m1.0\u001b[39m)\n",
      "File \u001b[0;32m~/.local/lib/python3.8/site-packages/qibullet/robot_virtual.py:50\u001b[0m, in \u001b[0;36mRobotVirtual.loadRobot\u001b[0;34m(self, translation, quaternion, physicsClientId)\u001b[0m\n\u001b[1;32m     48\u001b[0m \u001b[39mtry\u001b[39;00m:\n\u001b[1;32m     49\u001b[0m     \u001b[39mself\u001b[39m\u001b[39m.\u001b[39mphysics_client \u001b[39m=\u001b[39m physicsClientId\n\u001b[0;32m---> 50\u001b[0m     \u001b[39mself\u001b[39m\u001b[39m.\u001b[39mrobot_model \u001b[39m=\u001b[39m pybullet\u001b[39m.\u001b[39;49mloadURDF(\n\u001b[1;32m     51\u001b[0m         \u001b[39mself\u001b[39;49m\u001b[39m.\u001b[39;49mdescription_file,\n\u001b[1;32m     52\u001b[0m         translation,\n\u001b[1;32m     53\u001b[0m         quaternion,\n\u001b[1;32m     54\u001b[0m         useFixedBase\u001b[39m=\u001b[39;49m\u001b[39mFalse\u001b[39;49;00m,\n\u001b[1;32m     55\u001b[0m         globalScaling\u001b[39m=\u001b[39;49m\u001b[39m1.0\u001b[39;49m,\n\u001b[1;32m     56\u001b[0m         physicsClientId\u001b[39m=\u001b[39;49m\u001b[39mself\u001b[39;49m\u001b[39m.\u001b[39;49mphysics_client,\n\u001b[1;32m     57\u001b[0m         flags\u001b[39m=\u001b[39;49mpybullet\u001b[39m.\u001b[39;49mURDF_USE_SELF_COLLISION \u001b[39m|\u001b[39;49m\n\u001b[1;32m     58\u001b[0m         pybullet\u001b[39m.\u001b[39;49mURDF_USE_MATERIAL_COLORS_FROM_MTL)\n\u001b[1;32m     60\u001b[0m \u001b[39mexcept\u001b[39;00m pybullet\u001b[39m.\u001b[39merror \u001b[39mas\u001b[39;00m e:\n\u001b[1;32m     61\u001b[0m     \u001b[39mraise\u001b[39;00m pybullet\u001b[39m.\u001b[39merror(\u001b[39m\"\u001b[39m\u001b[39mCannot load robot model: \u001b[39m\u001b[39m\"\u001b[39m \u001b[39m+\u001b[39m \u001b[39mstr\u001b[39m(e))\n",
      "\u001b[0;31mKeyboardInterrupt\u001b[0m: "
     ]
    },
    {
     "data": {
      "image/png": "[encoded data removed]",
      "text/plain": [
       "<Figure size 640x480 with 1 Axes>"
      ]
     },
     "metadata": {},
     "output_type": "display_data"
    }
   ],
   "source": [
    "### Paramters\n",
    "epsilon = 1\n",
    "gamma = 0.9\n",
    "epsilon_decay = 0.999\n",
    "\n",
    "observation_space = 8\n",
    "action_space= 16\n",
    "\n",
    "policy = \"e-greedy\"\n",
    "\n",
    "D = list()\n",
    "avg_reward = 0\n",
    "Cum_reward_arr = list()\n",
    "no_of_timestep = list()\n",
    "\n",
    "## Environment Initialisation\n",
    "agent = walk_Agent(observation_space, action_space, epsilon, epsilon_decay)\n",
    "\n",
    "## Reset\n",
    "env_reset()\n",
    "obs = env_state()\n",
    "obs = np.array([obs], dtype='float32')\n",
    "terminated = False\n",
    "\n",
    "## Parameters\n",
    "miniBatch = 4\n",
    "C = 2\n",
    "episodes = 10\n",
    "M = 100\n",
    "learning_rate = 0.0001\n",
    "\n",
    "optimizer = optim.AdamW(AV.parameters(), lr= learning_rate, amsgrad=True)\n",
    "\n",
    "fig, ax = plt.subplots()\n",
    "ax.set_xlabel(\"iteration\")\n",
    "ax.set_ylabel(\"Reward\")\n",
    "\n",
    "for m in range(M):\n",
    "  \n",
    "  D = list()\n",
    "  for episode in range(episodes):\n",
    "\n",
    "    itr = 0\n",
    "    total_reward = 0\n",
    "\n",
    "    with torch.no_grad():\n",
    "      \n",
    "      # Collect experiences\n",
    "      while not terminated:\n",
    "\n",
    "        itr = itr +1\n",
    "        \n",
    "        #obs = env_Q_state()\n",
    "        #obs = np.array([obs], dtype='float32')\n",
    "        #obs = torch.from_numpy(obs)\n",
    "        \n",
    "        obs = env_state() #np.array(obs)\n",
    "        #obs = list( obs.flatten())\n",
    "        obs = np.array(obs, dtype='float32')\n",
    "        obs = obs.flatten()\n",
    "        Q = AV(torch.tensor(obs, dtype=torch.float)) # 1d array of size 30\n",
    "        Q = Q.squeeze()\n",
    "        \n",
    "        ## Take Action\n",
    "        new_state_req , action = agent.step(obs, policy, list( Q.numpy() )) # new_state_req are angles and action will 10*1 array of -1 , 1 , 0\n",
    "        \n",
    "        # Ceil it\n",
    "        new_state_req = np.minimum(np.maximum(new_state_req[0], min_values), max_values)\n",
    "        \n",
    "        ## Observe reward and state\n",
    "        #print(list(new_state_req))\n",
    "        new_obs, reward, terminated, truncated = env_step(list(new_state_req))\n",
    "\n",
    "        ## Store in D \n",
    "        done = truncated or terminated\n",
    "        D.append([obs, action, reward, new_obs, done])\n",
    "\n",
    "        ## Update State\n",
    "        #obs = new_obs\n",
    "        \n",
    "        ## Cumulative reward\n",
    "        total_reward += reward\n",
    "        \n",
    "        if(terminated):\n",
    "            no_of_timestep.append(itr)\n",
    "            fallen = False\n",
    "            break\n",
    "        \n",
    "      \n",
    "      env_reset()\n",
    "      obs = env_state()\n",
    "      obs = np.array([obs], dtype='float32')\n",
    "      terminated = False\n",
    "      Cum_reward_arr.append(total_reward)\n",
    "      avg_reward =  0.05 * total_reward + (1-0.05) * avg_reward\n",
    "\n",
    "  totol_loop = len(D)//miniBatch\n",
    "  \n",
    "# --------------------------------------------------\n",
    "  for k in range(totol_loop):\n",
    "    \n",
    "    err = 0\n",
    "    exp = list()\n",
    "    pred = list()\n",
    "\n",
    "    ## Sample random from miniBatch\n",
    "    for i in range(miniBatch):\n",
    "      idx = random.randint(1, len(D) -1)\n",
    "      st, a,  r, st1, terminated = D[idx]\n",
    "\n",
    "      if terminated:\n",
    "        Q_exp = r * torch.ones(observation_space)\n",
    "      else:\n",
    "        QT = TA(torch.tensor(st1, dtype=torch.float))\n",
    "        QT = QT.view(-1, 3)\n",
    "        max_values = QT.max(dim=1).values\n",
    "        Q_exp = r + gamma*max_values\n",
    "\n",
    "      Q = AV(torch.tensor(st, dtype=torch.float))\n",
    "      Q = Q.squeeze().view(-1, 3)\n",
    "      #idx = torch.tensor([ [a[0]], [a[1]], [a[2]], [a[3]], [a[4]], [a[5]], [a[6]], [a[7]], [a[8]], [a[9]]  ])\n",
    "      idx = torch.tensor([ [a[0]], [a[1]], [a[2]], [a[3]], [a[4]], [a[5]], [a[6]], [a[7]] ])\n",
    "      Q_pred = torch.gather(Q, 1, idx).squeeze()\n",
    "\n",
    "      exp.append(Q_exp)\n",
    "      pred.append(Q_pred)\n",
    "    \n",
    "    #print(exp)\n",
    "    #print(pred)\n",
    "\n",
    "    expected = exp \n",
    "    predicted = pred \n",
    "\n",
    "    loss = torch.nn.functional.mse_loss(expected[0], predicted[0])\n",
    "    \n",
    "    optimizer.zero_grad()\n",
    "    loss.backward()\n",
    "    \n",
    "    #torch.nn.utils.clip_grad_value_(AV.parameters(), 100)\n",
    "    optimizer.step()\n",
    "\n",
    "    ## Update after Every C step\n",
    "    if k%C == 0:\n",
    "      TA.load_state_dict(AV.state_dict())\n",
    "  \n",
    "  if (m)% 5 == 0:\n",
    "    agent = walk_Agent(observation_space, action_space, epsilon, epsilon_decay)\n",
    "    plt.plot(Cum_reward_arr)\n",
    "    plt.plot(no_of_timestep)\n",
    "    plt.pause(0.001)\n",
    "\n",
    "    display.display(plt.gcf())\n",
    "    display.clear_output(wait=True)\n",
    "\n",
    "      "
   ]
  },
  {
   "attachments": {},
   "cell_type": "markdown",
   "metadata": {},
   "source": [
    "## Save"
   ]
  },
  {
   "cell_type": "code",
   "execution_count": null,
   "metadata": {},
   "outputs": [],
   "source": []
  },
  {
   "cell_type": "code",
   "execution_count": null,
   "metadata": {},
   "outputs": [],
   "source": []
  },
  {
   "cell_type": "code",
   "execution_count": 19,
   "metadata": {},
   "outputs": [],
   "source": [
    "PATH = \"DQN.pth\"\n",
    "torch.save(AV.state_dict(), PATH)\n",
    "\n",
    "weights = AV.state_dict()\n",
    "with open('DQN.pkl', 'wb') as f:\n",
    "    pickle.dump(weights, f)"
   ]
  },
  {
   "attachments": {},
   "cell_type": "markdown",
   "metadata": {},
   "source": [
    "# Load"
   ]
  },
  {
   "cell_type": "code",
   "execution_count": 20,
   "metadata": {},
   "outputs": [
    {
     "data": {
      "text/plain": [
       "<All keys matched successfully>"
      ]
     },
     "execution_count": 20,
     "metadata": {},
     "output_type": "execute_result"
    }
   ],
   "source": [
    "PATH = \"DQN.pth\"\n",
    "AV.load_state_dict(torch.load(PATH))\n",
    "TA.load_state_dict(AV.state_dict())"
   ]
  },
  {
   "cell_type": "code",
   "execution_count": null,
   "metadata": {},
   "outputs": [
    {
     "data": {
      "text/plain": [
       "[<matplotlib.lines.Line2D at 0x7f3abc8a34c0>]"
      ]
     },
     "execution_count": 52,
     "metadata": {},
     "output_type": "execute_result"
    },
    {
     "data": {
      "image/png": "[encoded data removed]",
      "text/plain": [
       "<Figure size 640x480 with 1 Axes>"
      ]
     },
     "metadata": {},
     "output_type": "display_data"
    }
   ],
   "source": [
    "plt.plot(Cum_reward_arr)\n",
    "plt.plot(no_of_timestep)"
   ]
  },
  {
   "cell_type": "code",
   "execution_count": null,
   "metadata": {},
   "outputs": [
    {
     "ename": "RuntimeError",
     "evalue": "Index tensor must have the same number of dimensions as input tensor",
     "output_type": "error",
     "traceback": [
      "\u001b[0;31m---------------------------------------------------------------------------\u001b[0m",
      "\u001b[0;31mRuntimeError\u001b[0m                              Traceback (most recent call last)",
      "\u001b[1;32m/home/hri/cse546_proj/nao_bullet/dqn.ipynb Cell 14\u001b[0m in \u001b[0;36m<cell line: 3>\u001b[0;34m()\u001b[0m\n\u001b[1;32m      <a href='vscode-notebook-cell://wsl%2Bubuntu-18.04/home/hri/cse546_proj/nao_bullet/dqn.ipynb#X12sdnNjb2RlLXJlbW90ZQ%3D%3D?line=0'>1</a>\u001b[0m x \u001b[39m=\u001b[39m torch\u001b[39m.\u001b[39mtensor([\u001b[39m1\u001b[39m,\u001b[39m2\u001b[39m,\u001b[39m3\u001b[39m,\u001b[39m4\u001b[39m,\u001b[39m5\u001b[39m,\u001b[39m6\u001b[39m,\u001b[39m7\u001b[39m,\u001b[39m8\u001b[39m,\u001b[39m9\u001b[39m])\n\u001b[1;32m      <a href='vscode-notebook-cell://wsl%2Bubuntu-18.04/home/hri/cse546_proj/nao_bullet/dqn.ipynb#X12sdnNjb2RlLXJlbW90ZQ%3D%3D?line=1'>2</a>\u001b[0m x \u001b[39m=\u001b[39m x\u001b[39m.\u001b[39mview(\u001b[39m-\u001b[39m\u001b[39m1\u001b[39m, \u001b[39m3\u001b[39m)\n\u001b[0;32m----> <a href='vscode-notebook-cell://wsl%2Bubuntu-18.04/home/hri/cse546_proj/nao_bullet/dqn.ipynb#X12sdnNjb2RlLXJlbW90ZQ%3D%3D?line=2'>3</a>\u001b[0m torch\u001b[39m.\u001b[39;49mgather(x, \u001b[39m1\u001b[39;49m, torch\u001b[39m.\u001b[39;49mtensor([\u001b[39m0\u001b[39;49m,\u001b[39m1\u001b[39;49m,\u001b[39m0\u001b[39;49m]))\n",
      "\u001b[0;31mRuntimeError\u001b[0m: Index tensor must have the same number of dimensions as input tensor"
     ]
    }
   ],
   "source": [
    "x = torch.tensor([1,2,3,4,5,6,7,8,9])\n",
    "x = x.view(-1, 3)\n",
    "torch.gather(x, 1, torch.tensor([0,1,0]))"
   ]
  },
  {
   "cell_type": "code",
   "execution_count": null,
   "metadata": {},
   "outputs": [
    {
     "ename": "RuntimeError",
     "evalue": "Index tensor must have the same number of dimensions as input tensor",
     "output_type": "error",
     "traceback": [
      "\u001b[0;31m---------------------------------------------------------------------------\u001b[0m",
      "\u001b[0;31mRuntimeError\u001b[0m                              Traceback (most recent call last)",
      "\u001b[1;32m/home/hri/cse546_proj/nao_bullet/dqn.ipynb Cell 15\u001b[0m in \u001b[0;36m<cell line: 1>\u001b[0;34m()\u001b[0m\n\u001b[0;32m----> <a href='vscode-notebook-cell://wsl%2Bubuntu-18.04/home/hri/cse546_proj/nao_bullet/dqn.ipynb#X13sdnNjb2RlLXJlbW90ZQ%3D%3D?line=0'>1</a>\u001b[0m torch\u001b[39m.\u001b[39;49mgather(x, \u001b[39m1\u001b[39;49m, torch\u001b[39m.\u001b[39;49mtensor([\u001b[39m0\u001b[39;49m,\u001b[39m1\u001b[39;49m,\u001b[39m0\u001b[39;49m]))\n",
      "\u001b[0;31mRuntimeError\u001b[0m: Index tensor must have the same number of dimensions as input tensor"
     ]
    }
   ],
   "source": []
  },
  {
   "cell_type": "code",
   "execution_count": null,
   "metadata": {},
   "outputs": [
    {
     "data": {
      "text/plain": [
       "tensor([[1, 2, 1],\n",
       "        [4, 5, 4],\n",
       "        [7, 8, 7]])"
      ]
     },
     "execution_count": 77,
     "metadata": {},
     "output_type": "execute_result"
    }
   ],
   "source": [
    "x = torch.tensor([1,2,3,4,5,6,7,8,9])\n",
    "x = x.view(-1, 3)\n",
    "idx = torch.tensor([0,1,0])\n",
    "idx = idx.repeat(x.size()[0], 1)  # repeat idx for each row of x\n",
    "torch.gather(x, 1, idx)"
   ]
  },
  {
   "cell_type": "code",
   "execution_count": null,
   "metadata": {},
   "outputs": [
    {
     "data": {
      "text/plain": [
       "tensor([ 0.2308, -0.1738, -0.3404,  0.1829, -0.1477,  0.0149,  0.1514,  0.2285,\n",
       "        -0.0203, -0.0408])"
      ]
     },
     "execution_count": 86,
     "metadata": {},
     "output_type": "execute_result"
    }
   ],
   "source": [
    "x = torch.tensor( [ [ 0.2308,  0.1351,  0.1310],\n",
    "                    [ 0.3405, -0.1738,  0.0268],\n",
    "                    [-0.3404, -0.1835, -0.0311],\n",
    "                    [ 0.1829,  0.1309,  0.0402],\n",
    "                    [ 0.0356, -0.1477,  0.0833],\n",
    "                    [ 0.0149, -0.1418, -0.1558],\n",
    "                    [ 0.1514, -0.0096, -0.0639],\n",
    "                    [-0.0182,  0.2285, -0.2660],\n",
    "                    [-0.0203, -0.1473,  0.1908],\n",
    "                    [ 0.2329, -0.0408, -0.0517] ])\n",
    "\n",
    "idx = torch.tensor([[0],[1],[0],[0],[1],[0],[0],[1],[0],[1] ])\n",
    "torch.gather(x, 1, idx).squeeze()"
   ]
  },
  {
   "cell_type": "code",
   "execution_count": null,
   "metadata": {},
   "outputs": [
    {
     "data": {
      "text/plain": [
       "[0.12732641861268773,\n",
       " -0.09232883557470185,\n",
       " 0.08689823896103306,\n",
       " 0.12725468390537428,\n",
       " -0.09232541573536869,\n",
       " 0.08695699523751238]"
      ]
     },
     "execution_count": 99,
     "metadata": {},
     "output_type": "execute_result"
    }
   ],
   "source": [
    "nao.getAnglesPosition(legJoints)"
   ]
  },
  {
   "cell_type": "code",
   "execution_count": null,
   "metadata": {},
   "outputs": [
    {
     "data": {
      "text/plain": [
       "(1.0646830579174167, 0.09673968989419303, 1.3109619171424003)"
      ]
     },
     "execution_count": 123,
     "metadata": {},
     "output_type": "execute_result"
    }
   ],
   "source": [
    "nao.getPosition()"
   ]
  },
  {
   "cell_type": "code",
   "execution_count": null,
   "metadata": {},
   "outputs": [],
   "source": [
    "t = [0.12832641861268773,\n",
    " -0.09232883557470185,\n",
    " 0.08689823896103306,\n",
    " 0.12725468390537428,\n",
    " -0.09232541573536869,\n",
    " 0.18695699523751238]\n",
    "\n",
    "nao.setAngles(legJoints, t, 0.5)"
   ]
  },
  {
   "cell_type": "code",
   "execution_count": null,
   "metadata": {},
   "outputs": [],
   "source": [
    "env_reset()"
   ]
  },
  {
   "cell_type": "code",
   "execution_count": null,
   "metadata": {},
   "outputs": [],
   "source": [
    "imu = nao.getImu()\n",
    "nao.subscribeImu(frequency=100)\n",
    "x, y = nao.getImuValues()"
   ]
  },
  {
   "cell_type": "code",
   "execution_count": null,
   "metadata": {},
   "outputs": [
    {
     "data": {
      "text/plain": [
       "[-0.0025193699334536816, 0.022667746960935185, -0.003590342319071725]"
      ]
     },
     "execution_count": 152,
     "metadata": {},
     "output_type": "execute_result"
    }
   ],
   "source": [
    "y"
   ]
  },
  {
   "cell_type": "code",
   "execution_count": null,
   "metadata": {},
   "outputs": [
    {
     "data": {
      "text/plain": [
       "(-0.0014550485393115026, -0.0014375405333474796, -0.0006399613056351145)"
      ]
     },
     "execution_count": 153,
     "metadata": {},
     "output_type": "execute_result"
    }
   ],
   "source": []
  },
  {
   "cell_type": "code",
   "execution_count": null,
   "metadata": {},
   "outputs": [
    {
     "ename": "AttributeError",
     "evalue": "'SimulationManager' object has no attribute 'getBasePositionAndOrientation'",
     "output_type": "error",
     "traceback": [
      "\u001b[0;31m---------------------------------------------------------------------------\u001b[0m",
      "\u001b[0;31mAttributeError\u001b[0m                            Traceback (most recent call last)",
      "\u001b[1;32m/home/hri/cse546_proj/nao_bullet/dqn_2.ipynb Cell 25\u001b[0m in \u001b[0;36m<cell line: 5>\u001b[0;34m()\u001b[0m\n\u001b[1;32m      <a href='vscode-notebook-cell://wsl%2Bubuntu-18.04/home/hri/cse546_proj/nao_bullet/dqn_2.ipynb#X41sdnNjb2RlLXJlbW90ZQ%3D%3D?line=1'>2</a>\u001b[0m nao\u001b[39m.\u001b[39msubscribeImu(frequency\u001b[39m=\u001b[39m\u001b[39m100\u001b[39m)\n\u001b[1;32m      <a href='vscode-notebook-cell://wsl%2Bubuntu-18.04/home/hri/cse546_proj/nao_bullet/dqn_2.ipynb#X41sdnNjb2RlLXJlbW90ZQ%3D%3D?line=2'>3</a>\u001b[0m nao\u001b[39m.\u001b[39mP_STAND_INIT\n\u001b[0;32m----> <a href='vscode-notebook-cell://wsl%2Bubuntu-18.04/home/hri/cse546_proj/nao_bullet/dqn_2.ipynb#X41sdnNjb2RlLXJlbW90ZQ%3D%3D?line=4'>5</a>\u001b[0m simulation_manager\u001b[39m.\u001b[39;49mgetBasePositionAndOrientation()\n",
      "\u001b[0;31mAttributeError\u001b[0m: 'SimulationManager' object has no attribute 'getBasePositionAndOrientation'"
     ]
    }
   ],
   "source": [
    "imu = nao.getImu()\n",
    "nao.subscribeImu(frequency=100)\n",
    "nao.P_STAND_INIT\n"
   ]
  },
  {
   "cell_type": "code",
   "execution_count": null,
   "metadata": {},
   "outputs": [],
   "source": [
    "import pybullet as p"
   ]
  },
  {
   "cell_type": "code",
   "execution_count": null,
   "metadata": {},
   "outputs": [],
   "source": [
    "env_reset()"
   ]
  },
  {
   "cell_type": "code",
   "execution_count": null,
   "metadata": {},
   "outputs": [],
   "source": [
    "fallen = False\n",
    "import threading\n",
    "\n",
    "def nao_fall_detect():\n",
    "    nao.subscribeImu(frequency=100)\n",
    "    global fallen\n",
    "    while True:\n",
    "        acc = nao.getImuAccelerometerValues()\n",
    "        gyr = nao.getImuGyroscopeValues()\n",
    "        gyr = list(gyr)\n",
    "        acc = list(acc)\n",
    "        if gyr[1] < -4 or acc[2]<-6:\n",
    "            print(\"-------\")\n",
    "            fallen = True\n",
    "        time.sleep(0.1)\n",
    "        \n",
    "t1 = threading.Thread(target= nao_fall_detect)\n",
    "t1.start()"
   ]
  },
  {
   "cell_type": "code",
   "execution_count": null,
   "metadata": {},
   "outputs": [
    {
     "data": {
      "text/plain": [
       "False"
      ]
     },
     "execution_count": 10,
     "metadata": {},
     "output_type": "execute_result"
    }
   ],
   "source": [
    "fallen"
   ]
  },
  {
   "cell_type": "code",
   "execution_count": null,
   "metadata": {},
   "outputs": [
    {
     "name": "stdout",
     "output_type": "stream",
     "text": [
      "False\n"
     ]
    },
    {
     "name": "stdout",
     "output_type": "stream",
     "text": [
      "-------\n",
      "-------\n"
     ]
    }
   ],
   "source": [
    "t = [0.12832641861268773,\n",
    " -0.09232883557470185,\n",
    " 0.08689823896103306,\n",
    " 0.12725468390537428,\n",
    " -0.09232541573536869,\n",
    " 0.18695699523751238]\n",
    "\n",
    "nao.setAngles(legJoints, t, 0.5)\n",
    "print(fallen)"
   ]
  },
  {
   "cell_type": "code",
   "execution_count": null,
   "metadata": {},
   "outputs": [
    {
     "data": {
      "text/plain": [
       "True"
      ]
     },
     "execution_count": 12,
     "metadata": {},
     "output_type": "execute_result"
    }
   ],
   "source": [
    "fallen"
   ]
  },
  {
   "cell_type": "code",
   "execution_count": null,
   "metadata": {},
   "outputs": [
    {
     "data": {
      "text/plain": [
       "[<matplotlib.lines.Line2D at 0x7f3a1c31a940>]"
      ]
     },
     "execution_count": 189,
     "metadata": {},
     "output_type": "execute_result"
    },
    {
     "data": {
      "image/png": "[encoded data removed]",
      "text/plain": [
       "<Figure size 640x480 with 1 Axes>"
      ]
     },
     "metadata": {},
     "output_type": "display_data"
    }
   ],
   "source": [
    "plt.plot(a)\n"
   ]
  },
  {
   "cell_type": "code",
   "execution_count": null,
   "metadata": {},
   "outputs": [
    {
     "data": {
      "text/plain": [
       "[<matplotlib.lines.Line2D at 0x7f3a1c0563d0>]"
      ]
     },
     "execution_count": 200,
     "metadata": {},
     "output_type": "execute_result"
    },
    {
     "data": {
      "image/png": "[encoded data removed]",
      "text/plain": [
       "<Figure size 640x480 with 1 Axes>"
      ]
     },
     "metadata": {},
     "output_type": "display_data"
    }
   ],
   "source": [
    "plt.plot(a)"
   ]
  },
  {
   "cell_type": "code",
   "execution_count": null,
   "metadata": {},
   "outputs": [
    {
     "data": {
      "text/plain": [
       "[<matplotlib.lines.Line2D at 0x7f3a1c2f9790>]"
      ]
     },
     "execution_count": 190,
     "metadata": {},
     "output_type": "execute_result"
    },
    {
     "data": {
      "image/png": "[encoded data removed]",
      "text/plain": [
       "<Figure size 640x480 with 1 Axes>"
      ]
     },
     "metadata": {},
     "output_type": "display_data"
    }
   ],
   "source": [
    "plt.plot(b)"
   ]
  },
  {
   "cell_type": "code",
   "execution_count": null,
   "metadata": {},
   "outputs": [
    {
     "data": {
      "text/plain": [
       "[<matplotlib.lines.Line2D at 0x7f3a1c038f40>]"
      ]
     },
     "execution_count": 201,
     "metadata": {},
     "output_type": "execute_result"
    },
    {
     "data": {
      "image/png": "[encoded data removed]",
      "text/plain": [
       "<Figure size 640x480 with 1 Axes>"
      ]
     },
     "metadata": {},
     "output_type": "display_data"
    }
   ],
   "source": [
    "plt.plot(b)"
   ]
  },
  {
   "cell_type": "code",
   "execution_count": null,
   "metadata": {},
   "outputs": [
    {
     "data": {
      "text/plain": [
       "[<matplotlib.lines.Line2D at 0x7f3a1c2800a0>]"
      ]
     },
     "execution_count": 191,
     "metadata": {},
     "output_type": "execute_result"
    },
    {
     "data": {
      "image/png": "[encoded data removed]",
      "text/plain": [
       "<Figure size 640x480 with 1 Axes>"
      ]
     },
     "metadata": {},
     "output_type": "display_data"
    }
   ],
   "source": [
    "plt.plot(c)"
   ]
  },
  {
   "cell_type": "code",
   "execution_count": null,
   "metadata": {},
   "outputs": [
    {
     "data": {
      "text/plain": [
       "[<matplotlib.lines.Line2D at 0x7f39fdf9c8e0>]"
      ]
     },
     "execution_count": 202,
     "metadata": {},
     "output_type": "execute_result"
    },
    {
     "data": {
      "image/png": "[encoded data removed]",
      "text/plain": [
       "<Figure size 640x480 with 1 Axes>"
      ]
     },
     "metadata": {},
     "output_type": "display_data"
    }
   ],
   "source": [
    "plt.plot(c)"
   ]
  },
  {
   "cell_type": "code",
   "execution_count": null,
   "metadata": {},
   "outputs": [
    {
     "data": {
      "text/plain": [
       "((0.010813103059841043, -0.3265117032109139, 0.05991866165981999),\n",
       " (0.011534529263936165,\n",
       "  -0.7089003677591622,\n",
       "  0.00990892805360312,\n",
       "  0.7051446917976568))"
      ]
     },
     "execution_count": 149,
     "metadata": {},
     "output_type": "execute_result"
    }
   ],
   "source": [
    "import threading\n",
    "\n",
    "def nao_fall_detect():\n",
    "    global acc_vals , gyr_vals, check_fall\n",
    "    acc_vals = []\n",
    "    gyr_vals = []\n",
    "    while check_fall:\n",
    "        itr += 1\n",
    "        acc = nao.getImuAccelerometerValues()\n",
    "        gyr = nao.getImuGyroscopeValues()\n",
    "        acc_vals.append(acc)\n",
    "        gyr_vals.append(gyr)\n",
    "        time.sleep(0.1)\n"
   ]
  },
  {
   "cell_type": "code",
   "execution_count": null,
   "metadata": {},
   "outputs": [
    {
     "data": {
      "text/plain": [
       "tensor([[ 1., -1., -1., -1., -1.,  1., -1.,  1., -1.,  1.]],\n",
       "       grad_fn=<SignBackward0>)"
      ]
     },
     "execution_count": 53,
     "metadata": {},
     "output_type": "execute_result"
    }
   ],
   "source": [
    "model(torch.randn(1, 10))"
   ]
  },
  {
   "attachments": {},
   "cell_type": "markdown",
   "metadata": {},
   "source": [
    "## THis is directly learning policy not value"
   ]
  },
  {
   "cell_type": "code",
   "execution_count": null,
   "metadata": {},
   "outputs": [],
   "source": [
    "import torch\n",
    "import torch.nn as nn\n",
    "\n",
    "class AV(nn.Module):\n",
    "    def __init__(self):\n",
    "        super(MyModel, self).__init__()\n",
    "        self.fc1 = nn.Linear(10, 64)\n",
    "        self.fc2 = nn.Linear(64, 64)\n",
    "        self.fc3 = nn.Linear(64, 10)\n",
    "\n",
    "    def forward(self, x):\n",
    "        x = torch.relu(self.fc1(x))\n",
    "        x = torch.relu(self.fc2(x))\n",
    "        x = torch.tanh(self.fc3(x)) \n",
    "        x = self.custom_activation(x)\n",
    "        return x\n",
    "\n",
    "    def custom_activation(self, x):\n",
    "        x = torch.where(x < -0.33, torch.tensor(-1.0), x)\n",
    "        x = torch.where((x >= -0.33) & (x <= 0.33), torch.tensor(0.0), x)\n",
    "        x = torch.where(x > 0.33, torch.tensor(1.0), x)\n",
    "        return x\n",
    "\n",
    "model = MyModel()"
   ]
  },
  {
   "cell_type": "code",
   "execution_count": null,
   "metadata": {},
   "outputs": [
    {
     "data": {
      "text/plain": [
       "tensor([[0., 0., 0., 0., 0., 0., 0., 0., 0., 0.]], grad_fn=<WhereBackward0>)"
      ]
     },
     "execution_count": 58,
     "metadata": {},
     "output_type": "execute_result"
    }
   ],
   "source": [
    "model(torch.randn(1, 10))"
   ]
  },
  {
   "cell_type": "code",
   "execution_count": null,
   "metadata": {},
   "outputs": [],
   "source": []
  }
 ],
 "metadata": {
  "kernelspec": {
   "display_name": "nao_bullet",
   "language": "python",
   "name": "python3"
  },
  "language_info": {
   "codemirror_mode": {
    "name": "ipython",
    "version": 3
   },
   "file_extension": ".py",
   "mimetype": "text/x-python",
   "name": "python",
   "nbconvert_exporter": "python",
   "pygments_lexer": "ipython3",
   "version": "3.8.16"
  },
  "orig_nbformat": 4
 },
 "nbformat": 4,
 "nbformat_minor": 2
}
