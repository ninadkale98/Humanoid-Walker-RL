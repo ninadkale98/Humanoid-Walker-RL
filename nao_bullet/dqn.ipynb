{
 "cells": [
  {
   "attachments": {},
   "cell_type": "markdown",
   "metadata": {},
   "source": [
    "## Import"
   ]
  },
  {
   "cell_type": "code",
   "execution_count": 39,
   "metadata": {},
   "outputs": [
    {
     "data": {
      "text/plain": [
       "<contextlib.ExitStack at 0x7f6ae4236820>"
      ]
     },
     "execution_count": 39,
     "metadata": {},
     "output_type": "execute_result"
    }
   ],
   "source": [
    "from qibullet import SimulationManager\n",
    "from qibullet import NaoVirtual , NaoFsr\n",
    "import matplotlib.pyplot as plt\n",
    "import numpy as np\n",
    "import time\n",
    "\n",
    "import torch\n",
    "import torch.nn as nn\n",
    "import torch.optim as optim\n",
    "import torch.utils.data as data_utils\n",
    "import pickle\n",
    "import random\n",
    "import matplotlib\n",
    "is_ipython = 'inline' in matplotlib.get_backend()\n",
    "if is_ipython:\n",
    "    from IPython import display\n",
    "\n",
    "plt.ion()"
   ]
  },
  {
   "cell_type": "code",
   "execution_count": 41,
   "metadata": {},
   "outputs": [
    {
     "name": "stdout",
     "output_type": "stream",
     "text": [
      "cpu  in use\n"
     ]
    }
   ],
   "source": [
    "if torch.cuda.is_available():\n",
    "  device = \"cuda\" \n",
    "else:\n",
    "  device = \"cpu\"\n",
    "print(device, \" in use\")"
   ]
  },
  {
   "attachments": {},
   "cell_type": "markdown",
   "metadata": {},
   "source": [
    "## Nao Bullet"
   ]
  },
  {
   "cell_type": "code",
   "execution_count": 42,
   "metadata": {},
   "outputs": [
    {
     "name": "stdout",
     "output_type": "stream",
     "text": [
      "startThreads creating 1 threads.\n",
      "starting thread 0\n",
      "started thread 0 \n",
      "argc=2\n",
      "argv[0] = --unused\n",
      "argv[1] = --start_demo_name=Physics Server\n",
      "ExampleBrowserThreadFunc started\n",
      "X11 functions dynamically loaded using dlopen/dlsym OK!\n",
      "X11 functions dynamically loaded using dlopen/dlsym OK!\n",
      "Creating context\n",
      "Created GL 3.3 context\n",
      "Direct GLX rendering context obtained\n",
      "Making context current\n",
      "GL_VENDOR=VMware, Inc.\n",
      "GL_RENDERER=llvmpipe (LLVM 10.0.0, 256 bits)\n",
      "GL_VERSION=3.3 (Core Profile) Mesa 20.0.8\n",
      "GL_SHADING_LANGUAGE_VERSION=3.30\n",
      "pthread_getconcurrency()=0\n",
      "Version = 3.3 (Core Profile) Mesa 20.0.8\n",
      "Vendor = VMware, Inc.\n",
      "Renderer = llvmpipe (LLVM 10.0.0, 256 bits)\n",
      "b3Printf: Selected demo: Physics Server\n",
      "startThreads creating 1 threads.\n",
      "starting thread 0\n",
      "started thread 0 \n",
      "MotionThreadFunc thread started\n",
      "ven = VMware, Inc.\n",
      "ven = VMware, Inc.\n"
     ]
    }
   ],
   "source": [
    "# Launch Simulation Environment\n",
    "vis = True\n",
    "simulation_manager = SimulationManager()\n",
    "nao_sim = simulation_manager.launchSimulation(gui=vis, auto_step=True)\n",
    "#nao_sim_vis = simulation_manager.launchSimulation(gui=False, auto_step=True)\n",
    "simulation_manager.setGravity(nao_sim, [0.0, 0.0, -9.81])\n",
    "nao = None\n",
    "\n",
    "# Utility Functions\n",
    "# Joints to monitor\n",
    "legJoints = [ \"LHipRoll\", \"LHipPitch\", \"LKneePitch\", \"LAnklePitch\", \"LAnkleRoll\",\n",
    "              \"RHipRoll\", \"RHipPitch\", \"RKneePitch\", \"RAnklePitch\", \"RAnkleRoll\"]\n",
    "\n",
    "min_values_tensor = torch.tensor([-0.37, -1.53, -0.09, -1.18, -0.39 , -0.79, -1.53, -0.10, -1.18, -0.76], dtype=torch.float32)\n",
    "max_values_tensor = torch.tensor([ 0.79, 0.48, 2.11, 0.92, 0.76,  0.37, 0.48, 2.12, 0.93, 0.39], dtype=torch.float32)\n",
    "\n",
    "min_values = [-0.38, -1.539, -0.099,\t-1.19 , -0.399 ,\t-0.792, -1.536, -0.105, -1.188, -0.769]\n",
    "max_values = [ 0.795, 0.488, 2.118,0.923, 0.77,  0.38, 0.49, 2.13, 0.95,0.399]\n",
    "bucket_width = 0.05\n",
    "\n",
    "num_buckets = np.ceil((np.array(max_values) - np.array(min_values)) / bucket_width).astype(int)\n",
    "bucket_edges_list = [np.linspace(start=min_value, stop=max_value, num=num_bucket+1) for min_value, max_value, num_bucket in zip(min_values, max_values, num_buckets)]\n",
    "\n",
    "nao_prev_position_X = 0\n",
    "nao_prev_position_Y = 0\n",
    "\n",
    "prev_weight_cntr = 0\n",
    "def env_Reward():\n",
    "    global prev_weight_cntr\n",
    "    x, y, z = nao.getPosition()\n",
    "    terminated = False\n",
    "    delX = 5*(x - nao_prev_position_X  )\n",
    "    delY = 5*(y - nao_prev_position_Y  )\n",
    "    weight = -(nao.getTotalFsrValues(NaoFsr.LFOOT) + nao.getTotalFsrValues(NaoFsr.RFOOT) )\n",
    "\n",
    "    # if robot fallen down\n",
    "    if weight == 0: \n",
    "        reward = 0\n",
    "        prev_weight_cntr += 1\n",
    "    else:\n",
    "        reward = delX\n",
    "        prev_weight_cntr = 0\n",
    "\n",
    "    if prev_weight_cntr == 5:\n",
    "        terminated = True\n",
    "        reward = - 1\n",
    "        prev_weight_cntr = 0\n",
    "    return reward, terminated\n",
    "\n",
    "def env_state():\n",
    "    return nao.getAnglesPosition(legJoints)\n",
    "    \n",
    "def env_action(angles, speed):\n",
    "    nao.setAngles(legJoints, angles ,speed)\n",
    "\n",
    "def env_itrm_step(itr):\n",
    "    for _ in range(itr):\n",
    "        simulation_manager.stepSimulation(nao_sim)\n",
    "\n",
    "def env_reset():\n",
    "    global nao_prev_position_X , nao_prev_position_Y\n",
    "    global nao\n",
    "    simulation_manager.resetSimulation(nao_sim)\n",
    "    simulation_manager.setGravity(nao_sim, [0.0, 0.0, -9.81])\n",
    "    nao = simulation_manager.spawnNao( \n",
    "    nao_sim,\n",
    "    translation=[0, 0, 0],quaternion=[0, 0, 0, 1],\n",
    "    spawn_ground_plane=True)\n",
    "    env_itrm_step(100)\n",
    "    time.sleep(2)\n",
    "    nao_prev_position_X, nao_prev_position_Y, _ = nao.getPosition()\n",
    "\n",
    "def env_stop():\n",
    "    simulation_manager.stopSimulation(nao_sim)\n",
    "    # wait for limited iterations \n",
    "\n",
    "def env_step(angles):\n",
    "    env_action(angles, 0.5)\n",
    "    #env_itrm_step(50)\n",
    "    time.sleep(0.5)\n",
    "    reward, terminated = env_Reward()\n",
    "    next_state = env_state()\n",
    "    return next_state, reward, terminated\n",
    "\n",
    "def env_Q_state():\n",
    "    my_array = env_state()\n",
    "    # Define a function to assign each element of the array to a bucket\n",
    "    def assign_bucket(value):\n",
    "        index = np.where(value == my_array)[0][0]  # Find the index of the value in the array\n",
    "        bucket_edges = bucket_edges_list[index]   # Get the corresponding bucket edges\n",
    "        bucket_index = np.searchsorted(bucket_edges, value, side='right') - 1  # Find the bucket index\n",
    "        return bucket_index\n",
    "\n",
    "    my_array = np.array(my_array)\n",
    "\n",
    "    bucket_indices = [assign_bucket(value) for value in my_array]\n",
    "    return bucket_indices\n",
    "    \n",
    "env_reset()\n"
   ]
  },
  {
   "cell_type": "code",
   "execution_count": 47,
   "metadata": {},
   "outputs": [
    {
     "name": "stdout",
     "output_type": "stream",
     "text": [
      "numActiveThreads = 0\n",
      "stopping threads\n",
      "Thread with taskId 0 exiting\n",
      "Thread TERMINATED\n",
      "destroy semaphore\n",
      "semaphore destroyed\n",
      "destroy main semaphore\n",
      "main semaphore destroyed\n",
      "finished\n",
      "numActiveThreads = 0\n",
      "btShutDownExampleBrowser stopping threads\n",
      "Thread with taskId 0 exiting\n",
      "Thread TERMINATED\n",
      "destroy semaphore\n",
      "semaphore destroyed\n",
      "destroy main semaphore\n",
      "main semaphore destroyed\n"
     ]
    }
   ],
   "source": [
    "env_stop()"
   ]
  },
  {
   "attachments": {},
   "cell_type": "markdown",
   "metadata": {},
   "source": [
    "## Agent"
   ]
  },
  {
   "cell_type": "code",
   "execution_count": 43,
   "metadata": {},
   "outputs": [],
   "source": [
    "\n",
    "## Agent \n",
    "class walk_Agent:\n",
    "  def __init__(self, observation_space, action_space , epsilon, epsilon_decay):\n",
    "    self.observation_space = observation_space\n",
    "    self.action_space = action_space\n",
    "    self.epsilon = epsilon\n",
    "    self.epsilon_decay = epsilon_decay\n",
    "    self.epsilon_array = list()\n",
    "    self.epsilon_min = 0.35\n",
    "\n",
    "  def step(self, obs, policy, Q):\n",
    "    self.epsilon = max ( self.epsilon * self.epsilon_decay , self.epsilon_min)\n",
    "    self.epsilon_array.append(self.epsilon)\n",
    "\n",
    "    if policy == \"e-greedy\":\n",
    "\n",
    "      if np.random.uniform() > self.epsilon:\n",
    "    \n",
    "        next_obs = []\n",
    "        act = []\n",
    "        for i in range(self.observation_space):\n",
    "          idx = np.argmax( [ Q[3*i] , Q[3*i + 1], Q[3*i + 2] ])\n",
    "          if idx == 0:\n",
    "            next_obs.append( obs[i] + bucket_width)\n",
    "            act.append(0)\n",
    "\n",
    "          elif idx == 1:\n",
    "            next_obs.append( obs[i] )\n",
    "            act.append(1)\n",
    "\n",
    "          elif idx == 2:\n",
    "            next_obs.append( obs[i] - bucket_width)\n",
    "            act.append(2)\n",
    "          \n",
    "      else:\n",
    "\n",
    "        act = []\n",
    "        next_obs = []\n",
    "        for elem in obs:\n",
    "\n",
    "          rnd_act = random.choice([ 0.1, 0, -0.1])\n",
    "          \n",
    "          if rnd_act == 0.1:\n",
    "            next_obs.append(elem + bucket_width)\n",
    "            act.append(0)\n",
    "          \n",
    "          elif rnd_act == 0:\n",
    "            next_obs.append(elem)\n",
    "            act.append(1)\n",
    "          \n",
    "          else:\n",
    "            next_obs.append(elem - bucket_width)\n",
    "            act.append(2)\n",
    "        \n",
    "      return next_obs , act\n",
    "\n",
    "    elif policy == \"random\":\n",
    "      return np.random.choice(self.action_space.n)\n",
    "\n",
    "    elif policy == \"optimal\":\n",
    "      return np.argmax(Q)\n",
    "  \n",
    "  def give_epsilon_history(self):\n",
    "    return self.epsilon_array"
   ]
  },
  {
   "attachments": {},
   "cell_type": "markdown",
   "metadata": {},
   "source": [
    "## DQN"
   ]
  },
  {
   "cell_type": "code",
   "execution_count": 44,
   "metadata": {},
   "outputs": [
    {
     "name": "stdout",
     "output_type": "stream",
     "text": [
      "Observation :  [[ 0.11933001  0.12696193 -0.09232651  0.08701695 -0.11081475 -0.11916356\n",
      "   0.12730536 -0.0923344   0.0867851   0.11116954]]\n",
      "Q Values from Action Value :  [[-0.11874117 -0.10125618 -0.01200833  0.02571335  0.10584147 -0.06745173\n",
      "   0.06017124 -0.00129769 -0.06409799 -0.0805539  -0.0114157   0.02199012\n",
      "  -0.07894025  0.00808182  0.03094829 -0.01753118  0.03220341  0.04193366\n",
      "  -0.0711465   0.07060177 -0.02010316 -0.00327753  0.03432719  0.12484895\n",
      "   0.13039258 -0.02490954 -0.07420933 -0.01702947 -0.04905571 -0.05769888]]\n",
      "Q Values from Target Action :  [[-0.11874117 -0.10125618 -0.01200833  0.02571335  0.10584147 -0.06745173\n",
      "   0.06017124 -0.00129769 -0.06409799 -0.0805539  -0.0114157   0.02199012\n",
      "  -0.07894025  0.00808182  0.03094829 -0.01753118  0.03220341  0.04193366\n",
      "  -0.0711465   0.07060177 -0.02010316 -0.00327753  0.03432719  0.12484895\n",
      "   0.13039258 -0.02490954 -0.07420933 -0.01702947 -0.04905571 -0.05769888]]\n"
     ]
    }
   ],
   "source": [
    "### Paramters\n",
    "epsilon = 1\n",
    "gamma = 0.9\n",
    "epsilon_decay = 0.999\n",
    "\n",
    "observation_space = 10\n",
    "action_space= 20\n",
    "\n",
    "## Environment Initialisation\n",
    "agent = walk_Agent(observation_space, action_space, epsilon, epsilon_decay)\n",
    "\n",
    "env_reset()\n",
    "terminated = False\n",
    "\n",
    "# BEGIN_YOUR_CODE\n",
    "observation = env_state()\n",
    "observation = np.array([observation], dtype='float32')\n",
    "\n",
    "# Define Action Value model\n",
    "class DQN_AV(nn.Module):\n",
    "    def __init__(self):\n",
    "        super().__init__()\n",
    "        self.network_arch = nn.Sequential(\n",
    "            nn.Linear(10, 128),\n",
    "            nn.ReLU(),\n",
    "            nn.Linear(128, 128),\n",
    "            nn.ReLU(),\n",
    "            nn.Linear(128, 30)\n",
    "        )\n",
    "\n",
    "    def forward(self, x):\n",
    "        out = self.network_arch(x)\n",
    "        return out\n",
    "\n",
    "AV = DQN_AV().to(device)\n",
    "#print(model)\n",
    "\n",
    "\n",
    "# Define Target Action model\n",
    "class DQN_TA(nn.Module):\n",
    "    def __init__(self):\n",
    "        super().__init__()\n",
    "        self.network_arch = nn.Sequential(\n",
    "            nn.Linear(10, 128),\n",
    "            nn.ReLU(),\n",
    "            nn.Linear(128, 128),\n",
    "            nn.ReLU(),\n",
    "            nn.Linear(128, 30)\n",
    "        )\n",
    "\n",
    "    def forward(self, x):\n",
    "        out = self.network_arch(x)\n",
    "        return out\n",
    "\n",
    "TA = DQN_TA().to(device)\n",
    "#print(model)\n",
    "\n",
    "TA.load_state_dict(AV.state_dict())\n",
    "\n",
    "input = torch.from_numpy(observation)\n",
    "print(\"Observation : \" , observation)\n",
    "\n",
    "out = AV(input)\n",
    "print(\"Q Values from Action Value : \", out.detach().numpy())\n",
    "\n",
    "out = TA(input)\n",
    "print(\"Q Values from Target Action : \", out.detach().numpy())"
   ]
  },
  {
   "attachments": {},
   "cell_type": "markdown",
   "metadata": {},
   "source": [
    "## Train"
   ]
  },
  {
   "cell_type": "code",
   "execution_count": 46,
   "metadata": {},
   "outputs": [
    {
     "ename": "error",
     "evalue": "Error in the setAngles parameters",
     "output_type": "error",
     "traceback": [
      "\u001b[0;31m---------------------------------------------------------------------------\u001b[0m",
      "\u001b[0;31mAssertionError\u001b[0m                            Traceback (most recent call last)",
      "File \u001b[0;32m~/.local/lib/python3.8/site-packages/qibullet/robot_virtual.py:144\u001b[0m, in \u001b[0;36mRobotVirtual.setAngles\u001b[0;34m(self, joint_names, joint_values, percentage_speeds)\u001b[0m\n\u001b[1;32m    143\u001b[0m \u001b[39mtry\u001b[39;00m:\n\u001b[0;32m--> 144\u001b[0m     \u001b[39massert\u001b[39;00m \u001b[39mlen\u001b[39m(joint_names) \u001b[39m==\u001b[39m\\\n\u001b[1;32m    145\u001b[0m         \u001b[39mlen\u001b[39m(joint_values) \u001b[39m==\u001b[39m\\\n\u001b[1;32m    146\u001b[0m         \u001b[39mlen\u001b[39m(percentage_speeds)\n\u001b[1;32m    148\u001b[0m     \u001b[39massert\u001b[39;00m \u001b[39mall\u001b[39m(\n\u001b[1;32m    149\u001b[0m         speed \u001b[39m>\u001b[39m\u001b[39m=\u001b[39m \u001b[39m0.0\u001b[39m \u001b[39mand\u001b[39;00m speed \u001b[39m<\u001b[39m\u001b[39m=\u001b[39m \u001b[39m1.0\u001b[39m \u001b[39mfor\u001b[39;00m speed \u001b[39min\u001b[39;00m percentage_speeds)\n",
      "\u001b[0;31mAssertionError\u001b[0m: ",
      "\nDuring handling of the above exception, another exception occurred:\n",
      "\u001b[0;31merror\u001b[0m                                     Traceback (most recent call last)",
      "\u001b[1;32m/home/hri/cse546_proj/nao_bullet/dqn.ipynb Cell 12\u001b[0m in \u001b[0;36m<cell line: 39>\u001b[0;34m()\u001b[0m\n\u001b[1;32m     <a href='vscode-notebook-cell://wsl%2Bubuntu-18.04/home/hri/cse546_proj/nao_bullet/dqn.ipynb#X10sdnNjb2RlLXJlbW90ZQ%3D%3D?line=63'>64</a>\u001b[0m new_state_req , action \u001b[39m=\u001b[39m agent\u001b[39m.\u001b[39mstep(obs, policy, \u001b[39mlist\u001b[39m( Q\u001b[39m.\u001b[39mnumpy() )) \u001b[39m# new_state_req are angles and action will 10*1 array of -1 , 1 , 0\u001b[39;00m\n\u001b[1;32m     <a href='vscode-notebook-cell://wsl%2Bubuntu-18.04/home/hri/cse546_proj/nao_bullet/dqn.ipynb#X10sdnNjb2RlLXJlbW90ZQ%3D%3D?line=65'>66</a>\u001b[0m \u001b[39m## Observe reward and state\u001b[39;00m\n\u001b[0;32m---> <a href='vscode-notebook-cell://wsl%2Bubuntu-18.04/home/hri/cse546_proj/nao_bullet/dqn.ipynb#X10sdnNjb2RlLXJlbW90ZQ%3D%3D?line=66'>67</a>\u001b[0m new_obs, reward, terminated \u001b[39m=\u001b[39m env_step(\u001b[39mlist\u001b[39;49m(new_state_req))\n\u001b[1;32m     <a href='vscode-notebook-cell://wsl%2Bubuntu-18.04/home/hri/cse546_proj/nao_bullet/dqn.ipynb#X10sdnNjb2RlLXJlbW90ZQ%3D%3D?line=68'>69</a>\u001b[0m \u001b[39m## Store in D \u001b[39;00m\n\u001b[1;32m     <a href='vscode-notebook-cell://wsl%2Bubuntu-18.04/home/hri/cse546_proj/nao_bullet/dqn.ipynb#X10sdnNjb2RlLXJlbW90ZQ%3D%3D?line=69'>70</a>\u001b[0m D\u001b[39m.\u001b[39mappend([obs, action, reward, new_obs, terminated])\n",
      "\u001b[1;32m/home/hri/cse546_proj/nao_bullet/dqn.ipynb Cell 12\u001b[0m in \u001b[0;36menv_step\u001b[0;34m(angles)\u001b[0m\n\u001b[1;32m     <a href='vscode-notebook-cell://wsl%2Bubuntu-18.04/home/hri/cse546_proj/nao_bullet/dqn.ipynb#X10sdnNjb2RlLXJlbW90ZQ%3D%3D?line=76'>77</a>\u001b[0m \u001b[39mdef\u001b[39;00m \u001b[39menv_step\u001b[39m(angles):\n\u001b[0;32m---> <a href='vscode-notebook-cell://wsl%2Bubuntu-18.04/home/hri/cse546_proj/nao_bullet/dqn.ipynb#X10sdnNjb2RlLXJlbW90ZQ%3D%3D?line=77'>78</a>\u001b[0m     env_action(angles, \u001b[39m0.5\u001b[39;49m)\n\u001b[1;32m     <a href='vscode-notebook-cell://wsl%2Bubuntu-18.04/home/hri/cse546_proj/nao_bullet/dqn.ipynb#X10sdnNjb2RlLXJlbW90ZQ%3D%3D?line=78'>79</a>\u001b[0m     \u001b[39m#env_itrm_step(50)\u001b[39;00m\n\u001b[1;32m     <a href='vscode-notebook-cell://wsl%2Bubuntu-18.04/home/hri/cse546_proj/nao_bullet/dqn.ipynb#X10sdnNjb2RlLXJlbW90ZQ%3D%3D?line=79'>80</a>\u001b[0m     time\u001b[39m.\u001b[39msleep(\u001b[39m0.5\u001b[39m)\n",
      "\u001b[1;32m/home/hri/cse546_proj/nao_bullet/dqn.ipynb Cell 12\u001b[0m in \u001b[0;36menv_action\u001b[0;34m(angles, speed)\u001b[0m\n\u001b[1;32m     <a href='vscode-notebook-cell://wsl%2Bubuntu-18.04/home/hri/cse546_proj/nao_bullet/dqn.ipynb#X10sdnNjb2RlLXJlbW90ZQ%3D%3D?line=52'>53</a>\u001b[0m \u001b[39mdef\u001b[39;00m \u001b[39menv_action\u001b[39m(angles, speed):\n\u001b[0;32m---> <a href='vscode-notebook-cell://wsl%2Bubuntu-18.04/home/hri/cse546_proj/nao_bullet/dqn.ipynb#X10sdnNjb2RlLXJlbW90ZQ%3D%3D?line=53'>54</a>\u001b[0m     nao\u001b[39m.\u001b[39;49msetAngles(legJoints, angles ,speed)\n",
      "File \u001b[0;32m~/.local/lib/python3.8/site-packages/qibullet/nao_virtual.py:274\u001b[0m, in \u001b[0;36mNaoVirtual.setAngles\u001b[0;34m(self, joint_names, joint_values, percentage_speed)\u001b[0m\n\u001b[1;32m    271\u001b[0m         values\u001b[39m.\u001b[39mextend(finger_values)\n\u001b[1;32m    272\u001b[0m         speeds\u001b[39m.\u001b[39mextend([speed]\u001b[39m*\u001b[39m\u001b[39mlen\u001b[39m(finger_names))\n\u001b[0;32m--> 274\u001b[0m RobotVirtual\u001b[39m.\u001b[39;49msetAngles(\n\u001b[1;32m    275\u001b[0m     \u001b[39mself\u001b[39;49m,\n\u001b[1;32m    276\u001b[0m     names,\n\u001b[1;32m    277\u001b[0m     values,\n\u001b[1;32m    278\u001b[0m     speeds)\n",
      "File \u001b[0;32m~/.local/lib/python3.8/site-packages/qibullet/robot_virtual.py:152\u001b[0m, in \u001b[0;36mRobotVirtual.setAngles\u001b[0;34m(self, joint_names, joint_values, percentage_speeds)\u001b[0m\n\u001b[1;32m    148\u001b[0m     \u001b[39massert\u001b[39;00m \u001b[39mall\u001b[39m(\n\u001b[1;32m    149\u001b[0m         speed \u001b[39m>\u001b[39m\u001b[39m=\u001b[39m \u001b[39m0.0\u001b[39m \u001b[39mand\u001b[39;00m speed \u001b[39m<\u001b[39m\u001b[39m=\u001b[39m \u001b[39m1.0\u001b[39m \u001b[39mfor\u001b[39;00m speed \u001b[39min\u001b[39;00m percentage_speeds)\n\u001b[1;32m    151\u001b[0m \u001b[39mexcept\u001b[39;00m \u001b[39mAssertionError\u001b[39;00m:\n\u001b[0;32m--> 152\u001b[0m     \u001b[39mraise\u001b[39;00m pybullet\u001b[39m.\u001b[39merror(\u001b[39m\"\u001b[39m\u001b[39mError in the setAngles parameters\u001b[39m\u001b[39m\"\u001b[39m)\n\u001b[1;32m    154\u001b[0m \u001b[39mfor\u001b[39;00m joint_name, joint_value, percentage_speed \u001b[39min\u001b[39;00m \u001b[39mzip\u001b[39m(\n\u001b[1;32m    155\u001b[0m         joint_names,\n\u001b[1;32m    156\u001b[0m         joint_values,\n\u001b[1;32m    157\u001b[0m         percentage_speeds):\n\u001b[1;32m    159\u001b[0m     \u001b[39mif\u001b[39;00m isNan(joint_value):\n",
      "\u001b[0;31merror\u001b[0m: Error in the setAngles parameters"
     ]
    },
    {
     "data": {
      "image/png": "[encoded data removed]",
      "text/plain": [
       "<Figure size 640x480 with 1 Axes>"
      ]
     },
     "metadata": {},
     "output_type": "display_data"
    }
   ],
   "source": [
    "### Paramters\n",
    "epsilon = 1\n",
    "gamma = 0.9\n",
    "epsilon_decay = 0.999\n",
    "\n",
    "observation_space = 10\n",
    "action_space= 10\n",
    "\n",
    "policy = \"e-greedy\"\n",
    "\n",
    "D = list()\n",
    "avg_reward = 0\n",
    "Cum_reward_arr = list()\n",
    "no_of_timestep = list()\n",
    "\n",
    "## Environment Initialisation\n",
    "agent = walk_Agent(observation_space, action_space, epsilon, epsilon_decay)\n",
    "\n",
    "## Reset\n",
    "env_reset()\n",
    "obs = env_state()\n",
    "obs = np.array([obs], dtype='float32')\n",
    "terminated = False\n",
    "\n",
    "\n",
    "## Parameters\n",
    "miniBatch = 4\n",
    "C = 2\n",
    "episodes = 10\n",
    "M = 500\n",
    "learning_rate = 0.01\n",
    "\n",
    "optimizer = optim.AdamW(AV.parameters(), lr= learning_rate, amsgrad=True)\n",
    "\n",
    "fig, ax = plt.subplots()\n",
    "ax.set_xlabel(\"iteration\")\n",
    "ax.set_ylabel(\"Reward\")\n",
    "\n",
    "for m in range(M):\n",
    "  \n",
    "  D = list()\n",
    "  for episode in range(episodes):\n",
    "\n",
    "    itr = 0\n",
    "    total_reward = 0\n",
    "\n",
    "    with torch.no_grad():\n",
    "\n",
    "      # Collect experiences\n",
    "      while not terminated:\n",
    "\n",
    "        itr = itr +1\n",
    "        \n",
    "        #obs = env_Q_state()\n",
    "        #obs = np.array([obs], dtype='float32')\n",
    "        #obs = torch.from_numpy(obs)\n",
    "        \n",
    "        obs = env_state() #np.array(obs)\n",
    "        #obs = list( obs.flatten())\n",
    "        obs = np.array([obs], dtype='float32')\n",
    "        Q = AV(torch.tensor(obs, dtype=torch.float)) # 1d array of size 30\n",
    "        \n",
    "        ## Take Action\n",
    "        new_state_req , action = agent.step(obs, policy, list( Q.numpy() )) # new_state_req are angles and action will 10*1 array of -1 , 1 , 0\n",
    "        \n",
    "        ## Observe reward and state\n",
    "        new_obs, reward, terminated = env_step(list(new_state_req))\n",
    "\n",
    "        ## Store in D \n",
    "        D.append([obs, action, reward, new_obs, terminated])\n",
    "\n",
    "        ## Update State\n",
    "        #obs = new_obs\n",
    "        \n",
    "        ## Cumulative reward\n",
    "        total_reward += reward\n",
    "        \n",
    "        if(terminated):\n",
    "            no_of_timestep.append(itr)\n",
    "            break\n",
    "      \n",
    "      env_reset()\n",
    "      obs = env_Q_state()\n",
    "      obs = np.array([obs], dtype='float32')\n",
    "      terminated = False\n",
    "      Cum_reward_arr.append(total_reward)\n",
    "      avg_reward =  0.05 * total_reward + (1-0.05) * avg_reward\n",
    "\n",
    "  totol_loop = len(D)//miniBatch\n",
    "  \n",
    "# --------------------------------------------------\n",
    "  for k in range(totol_loop):\n",
    "    \n",
    "    err = 0\n",
    "    exp = list()\n",
    "    pred = list()\n",
    "\n",
    "    ## Sample random from miniBatch\n",
    "    for i in range(miniBatch):\n",
    "      idx = random.randint(1, len(D) -1)\n",
    "      st, a,  r, st1, terminated = D[idx]\n",
    "\n",
    "      if terminated:\n",
    "        Q_exp = r * torch.ones(10)\n",
    "      else:\n",
    "        QT = TA(torch.tensor(st1, dtype=torch.float))\n",
    "        QT = QT.view(-1, 3)\n",
    "        max_values = QT.max(dim=1).values\n",
    "        Q_exp = r + gamma*max_values\n",
    "\n",
    "      Q = AV(torch.tensor(st, dtype=torch.float))\n",
    "      Q = Q.view(-1, 3)\n",
    "      idx = torch.tensor([ [a[0]], [a[1]], [a[2]], [a[3]], [a[4]], [a[5]], [a[6]], [a[7]], [a[8]], [a[9]]  ])\n",
    "      Q_pred = torch.gather(Q, 1, idx).squeeze()\n",
    "\n",
    "      exp.append(Q_exp)\n",
    "      pred.append(Q_pred)\n",
    "    \n",
    "    #print(exp)\n",
    "    #print(pred)\n",
    "\n",
    "    expected = exp \n",
    "    predicted = pred \n",
    "\n",
    "    loss = torch.nn.functional.mse_loss(expected[0], predicted[0])\n",
    "    \n",
    "    optimizer.zero_grad()\n",
    "    loss.backward()\n",
    "    \n",
    "    #torch.nn.utils.clip_grad_value_(AV.parameters(), 100)\n",
    "    optimizer.step()\n",
    "\n",
    "    ## Update after Every C step\n",
    "    if k%C == 0:\n",
    "      TA.load_state_dict(AV.state_dict())\n",
    "  \n",
    "  if (m)% 5 == 0:\n",
    "    plt.plot(Cum_reward_arr)\n",
    "    plt.plot(no_of_timestep)\n",
    "    plt.pause(0.001)\n",
    "\n",
    "    display.display(plt.gcf())\n",
    "    display.clear_output(wait=True)\n",
    "\n",
    "      "
   ]
  },
  {
   "cell_type": "code",
   "execution_count": null,
   "metadata": {},
   "outputs": [],
   "source": []
  },
  {
   "cell_type": "code",
   "execution_count": 75,
   "metadata": {},
   "outputs": [
    {
     "ename": "RuntimeError",
     "evalue": "Index tensor must have the same number of dimensions as input tensor",
     "output_type": "error",
     "traceback": [
      "\u001b[0;31m---------------------------------------------------------------------------\u001b[0m",
      "\u001b[0;31mRuntimeError\u001b[0m                              Traceback (most recent call last)",
      "\u001b[1;32m/home/hri/cse546_proj/nao_bullet/dqn.ipynb Cell 14\u001b[0m in \u001b[0;36m<cell line: 3>\u001b[0;34m()\u001b[0m\n\u001b[1;32m      <a href='vscode-notebook-cell://wsl%2Bubuntu-18.04/home/hri/cse546_proj/nao_bullet/dqn.ipynb#X12sdnNjb2RlLXJlbW90ZQ%3D%3D?line=0'>1</a>\u001b[0m x \u001b[39m=\u001b[39m torch\u001b[39m.\u001b[39mtensor([\u001b[39m1\u001b[39m,\u001b[39m2\u001b[39m,\u001b[39m3\u001b[39m,\u001b[39m4\u001b[39m,\u001b[39m5\u001b[39m,\u001b[39m6\u001b[39m,\u001b[39m7\u001b[39m,\u001b[39m8\u001b[39m,\u001b[39m9\u001b[39m])\n\u001b[1;32m      <a href='vscode-notebook-cell://wsl%2Bubuntu-18.04/home/hri/cse546_proj/nao_bullet/dqn.ipynb#X12sdnNjb2RlLXJlbW90ZQ%3D%3D?line=1'>2</a>\u001b[0m x \u001b[39m=\u001b[39m x\u001b[39m.\u001b[39mview(\u001b[39m-\u001b[39m\u001b[39m1\u001b[39m, \u001b[39m3\u001b[39m)\n\u001b[0;32m----> <a href='vscode-notebook-cell://wsl%2Bubuntu-18.04/home/hri/cse546_proj/nao_bullet/dqn.ipynb#X12sdnNjb2RlLXJlbW90ZQ%3D%3D?line=2'>3</a>\u001b[0m torch\u001b[39m.\u001b[39;49mgather(x, \u001b[39m1\u001b[39;49m, torch\u001b[39m.\u001b[39;49mtensor([\u001b[39m0\u001b[39;49m,\u001b[39m1\u001b[39;49m,\u001b[39m0\u001b[39;49m]))\n",
      "\u001b[0;31mRuntimeError\u001b[0m: Index tensor must have the same number of dimensions as input tensor"
     ]
    }
   ],
   "source": [
    "x = torch.tensor([1,2,3,4,5,6,7,8,9])\n",
    "x = x.view(-1, 3)\n",
    "torch.gather(x, 1, torch.tensor([0,1,0]))"
   ]
  },
  {
   "cell_type": "code",
   "execution_count": 74,
   "metadata": {},
   "outputs": [
    {
     "ename": "RuntimeError",
     "evalue": "Index tensor must have the same number of dimensions as input tensor",
     "output_type": "error",
     "traceback": [
      "\u001b[0;31m---------------------------------------------------------------------------\u001b[0m",
      "\u001b[0;31mRuntimeError\u001b[0m                              Traceback (most recent call last)",
      "\u001b[1;32m/home/hri/cse546_proj/nao_bullet/dqn.ipynb Cell 15\u001b[0m in \u001b[0;36m<cell line: 1>\u001b[0;34m()\u001b[0m\n\u001b[0;32m----> <a href='vscode-notebook-cell://wsl%2Bubuntu-18.04/home/hri/cse546_proj/nao_bullet/dqn.ipynb#X13sdnNjb2RlLXJlbW90ZQ%3D%3D?line=0'>1</a>\u001b[0m torch\u001b[39m.\u001b[39;49mgather(x, \u001b[39m1\u001b[39;49m, torch\u001b[39m.\u001b[39;49mtensor([\u001b[39m0\u001b[39;49m,\u001b[39m1\u001b[39;49m,\u001b[39m0\u001b[39;49m]))\n",
      "\u001b[0;31mRuntimeError\u001b[0m: Index tensor must have the same number of dimensions as input tensor"
     ]
    }
   ],
   "source": []
  },
  {
   "cell_type": "code",
   "execution_count": 77,
   "metadata": {},
   "outputs": [
    {
     "data": {
      "text/plain": [
       "tensor([[1, 2, 1],\n",
       "        [4, 5, 4],\n",
       "        [7, 8, 7]])"
      ]
     },
     "execution_count": 77,
     "metadata": {},
     "output_type": "execute_result"
    }
   ],
   "source": [
    "x = torch.tensor([1,2,3,4,5,6,7,8,9])\n",
    "x = x.view(-1, 3)\n",
    "idx = torch.tensor([0,1,0])\n",
    "idx = idx.repeat(x.size()[0], 1)  # repeat idx for each row of x\n",
    "torch.gather(x, 1, idx)"
   ]
  },
  {
   "cell_type": "code",
   "execution_count": 86,
   "metadata": {},
   "outputs": [
    {
     "data": {
      "text/plain": [
       "tensor([ 0.2308, -0.1738, -0.3404,  0.1829, -0.1477,  0.0149,  0.1514,  0.2285,\n",
       "        -0.0203, -0.0408])"
      ]
     },
     "execution_count": 86,
     "metadata": {},
     "output_type": "execute_result"
    }
   ],
   "source": [
    "x = torch.tensor( [ [ 0.2308,  0.1351,  0.1310],\n",
    "                    [ 0.3405, -0.1738,  0.0268],\n",
    "                    [-0.3404, -0.1835, -0.0311],\n",
    "                    [ 0.1829,  0.1309,  0.0402],\n",
    "                    [ 0.0356, -0.1477,  0.0833],\n",
    "                    [ 0.0149, -0.1418, -0.1558],\n",
    "                    [ 0.1514, -0.0096, -0.0639],\n",
    "                    [-0.0182,  0.2285, -0.2660],\n",
    "                    [-0.0203, -0.1473,  0.1908],\n",
    "                    [ 0.2329, -0.0408, -0.0517] ])\n",
    "\n",
    "idx = torch.tensor([[0],[1],[0],[0],[1],[0],[0],[1],[0],[1] ])\n",
    "torch.gather(x, 1, idx).squeeze()"
   ]
  },
  {
   "cell_type": "code",
   "execution_count": 36,
   "metadata": {},
   "outputs": [
    {
     "data": {
      "text/plain": [
       "[0.11860806640630592,\n",
       " 0.12884769051249473,\n",
       " -0.09229718608198108,\n",
       " 0.08667567864562271,\n",
       " -0.11086502016204691,\n",
       " -0.11894127989195233,\n",
       " 0.12729024957515186,\n",
       " -0.09222518471334772,\n",
       " 0.08818516055705587,\n",
       " 0.11231001838456815]"
      ]
     },
     "execution_count": 36,
     "metadata": {},
     "output_type": "execute_result"
    }
   ],
   "source": [
    "nao.getAnglesPosition(legJoints)"
   ]
  },
  {
   "cell_type": "code",
   "execution_count": 37,
   "metadata": {},
   "outputs": [
    {
     "data": {
      "text/plain": [
       "[10, 33, 0, 25, 5, 13, 33, 0, 25, 18]"
      ]
     },
     "execution_count": 37,
     "metadata": {},
     "output_type": "execute_result"
    }
   ],
   "source": [
    "env_Q_state()"
   ]
  },
  {
   "cell_type": "code",
   "execution_count": null,
   "metadata": {},
   "outputs": [],
   "source": []
  },
  {
   "cell_type": "code",
   "execution_count": 50,
   "metadata": {},
   "outputs": [],
   "source": [
    "import torch\n",
    "import torch.nn as nn\n",
    "\n",
    "class MyModel(nn.Module):\n",
    "    def __init__(self):\n",
    "        super(MyModel, self).__init__()\n",
    "        self.fc = nn.Linear(10, 10)\n",
    "\n",
    "    def forward(self, x):\n",
    "        x = self.fc(x)\n",
    "        x = torch.sign(x)\n",
    "        return x\n",
    "\n",
    "model = MyModel()"
   ]
  },
  {
   "cell_type": "code",
   "execution_count": 53,
   "metadata": {},
   "outputs": [
    {
     "data": {
      "text/plain": [
       "tensor([[ 1., -1., -1., -1., -1.,  1., -1.,  1., -1.,  1.]],\n",
       "       grad_fn=<SignBackward0>)"
      ]
     },
     "execution_count": 53,
     "metadata": {},
     "output_type": "execute_result"
    }
   ],
   "source": [
    "model(torch.randn(1, 10))"
   ]
  },
  {
   "attachments": {},
   "cell_type": "markdown",
   "metadata": {},
   "source": [
    "## THis is directly learning policy not value"
   ]
  },
  {
   "cell_type": "code",
   "execution_count": 54,
   "metadata": {},
   "outputs": [],
   "source": [
    "import torch\n",
    "import torch.nn as nn\n",
    "\n",
    "class AV(nn.Module):\n",
    "    def __init__(self):\n",
    "        super(MyModel, self).__init__()\n",
    "        self.fc1 = nn.Linear(10, 64)\n",
    "        self.fc2 = nn.Linear(64, 64)\n",
    "        self.fc3 = nn.Linear(64, 10)\n",
    "\n",
    "    def forward(self, x):\n",
    "        x = torch.relu(self.fc1(x))\n",
    "        x = torch.relu(self.fc2(x))\n",
    "        x = torch.tanh(self.fc3(x)) \n",
    "        x = self.custom_activation(x)\n",
    "        return x\n",
    "\n",
    "    def custom_activation(self, x):\n",
    "        x = torch.where(x < -0.33, torch.tensor(-1.0), x)\n",
    "        x = torch.where((x >= -0.33) & (x <= 0.33), torch.tensor(0.0), x)\n",
    "        x = torch.where(x > 0.33, torch.tensor(1.0), x)\n",
    "        return x\n",
    "\n",
    "model = MyModel()"
   ]
  },
  {
   "cell_type": "code",
   "execution_count": 58,
   "metadata": {},
   "outputs": [
    {
     "data": {
      "text/plain": [
       "tensor([[0., 0., 0., 0., 0., 0., 0., 0., 0., 0.]], grad_fn=<WhereBackward0>)"
      ]
     },
     "execution_count": 58,
     "metadata": {},
     "output_type": "execute_result"
    }
   ],
   "source": [
    "model(torch.randn(1, 10))"
   ]
  },
  {
   "cell_type": "code",
   "execution_count": null,
   "metadata": {},
   "outputs": [],
   "source": []
  }
 ],
 "metadata": {
  "kernelspec": {
   "display_name": "nao_bullet",
   "language": "python",
   "name": "python3"
  },
  "language_info": {
   "codemirror_mode": {
    "name": "ipython",
    "version": 3
   },
   "file_extension": ".py",
   "mimetype": "text/x-python",
   "name": "python",
   "nbconvert_exporter": "python",
   "pygments_lexer": "ipython3",
   "version": "3.8.16"
  },
  "orig_nbformat": 4
 },
 "nbformat": 4,
 "nbformat_minor": 2
}
