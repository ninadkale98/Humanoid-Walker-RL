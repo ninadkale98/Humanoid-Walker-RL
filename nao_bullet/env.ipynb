{
 "cells": [
  {
   "cell_type": "code",
   "execution_count": 126,
   "metadata": {},
   "outputs": [],
   "source": [
    "from qibullet import SimulationManager\n",
    "from qibullet import NaoVirtual , NaoFsr\n",
    "import matplotlib.pyplot as plt\n",
    "import numpy as np\n",
    "import time\n",
    "\n",
    "import torch\n",
    "import torch.nn as nn\n",
    "import torch.optim as optim\n",
    "import torch.utils.data as data_utils\n",
    "import pickle"
   ]
  },
  {
   "cell_type": "code",
   "execution_count": 127,
   "metadata": {},
   "outputs": [
    {
     "name": "stdout",
     "output_type": "stream",
     "text": [
      "cpu  in use\n"
     ]
    }
   ],
   "source": [
    "if torch.cuda.is_available():\n",
    "  device = \"cuda\" \n",
    "else:\n",
    "  device = \"cpu\"\n",
    "print(device, \" in use\")"
   ]
  },
  {
   "cell_type": "code",
   "execution_count": 131,
   "metadata": {},
   "outputs": [
    {
     "data": {
      "text/plain": [
       "<All keys matched successfully>"
      ]
     },
     "execution_count": 131,
     "metadata": {},
     "output_type": "execute_result"
    }
   ],
   "source": [
    "obs_space = 10\n",
    "\n",
    "class ActorNet(nn.Module):\n",
    "  def __init__(self, input_dim, hidden_dim, output_dim):\n",
    "      super(ActorNet, self).__init__()\n",
    "      self.rnn = nn.RNN(input_dim, hidden_dim)\n",
    "      #self.fc = nn.Linear(hidden_dim, output_dim)\n",
    "      self.fc1 = nn.Linear(hidden_dim, hidden_dim)\n",
    "      self.fc2 = nn.Linear(hidden_dim, output_dim)\n",
    "\n",
    "  def forward(self, x):\n",
    "      out, _ = self.rnn(x)\n",
    "      #out = out[:, -1, :]\n",
    "      #out = self.fc(out)\n",
    "      out = self.fc1(out)\n",
    "      out = self.fc2(out)\n",
    "      return out\n",
    "    \n",
    "Actor = ActorNet(obs_space, 10, obs_space)\n",
    "\n",
    "# load model weights\n",
    "Actor.load_state_dict(torch.load('model_weights_day3_1.pth', map_location=torch.device('cpu')))"
   ]
  },
  {
   "cell_type": "code",
   "execution_count": 132,
   "metadata": {},
   "outputs": [
    {
     "name": "stdout",
     "output_type": "stream",
     "text": [
      "startThreads creating 1 threads.\n",
      "starting thread 0\n",
      "started thread 0 \n",
      "argc=2\n",
      "argv[0] = --unused\n",
      "argv[1] = --start_demo_name=Physics Server\n",
      "ExampleBrowserThreadFunc started\n",
      "X11 functions dynamically loaded using dlopen/dlsym OK!\n",
      "X11 functions dynamically loaded using dlopen/dlsym OK!\n",
      "Creating context\n",
      "Created GL 3.3 context\n",
      "Direct GLX rendering context obtained\n",
      "Making context current\n",
      "GL_VENDOR=VMware, Inc.\n",
      "GL_RENDERER=llvmpipe (LLVM 10.0.0, 256 bits)\n",
      "GL_VERSION=3.3 (Core Profile) Mesa 20.0.8\n",
      "GL_SHADING_LANGUAGE_VERSION=3.30\n",
      "pthread_getconcurrency()=0\n",
      "Version = 3.3 (Core Profile) Mesa 20.0.8\n",
      "Vendor = VMware, Inc.\n",
      "Renderer = llvmpipe (LLVM 10.0.0, 256 bits)\n",
      "b3Printf: Selected demo: Physics Server\n",
      "startThreads creating 1 threads.\n",
      "starting thread 0\n",
      "started thread 0 \n",
      "MotionThreadFunc thread started\n"
     ]
    },
    {
     "name": "stdout",
     "output_type": "stream",
     "text": [
      "ven = VMware, Inc.\n",
      "ven = VMware, Inc.\n"
     ]
    }
   ],
   "source": [
    "# Launch Simulation Environment\n",
    "\n",
    "vis = True\n",
    "simulation_manager = SimulationManager()\n",
    "nao_sim = simulation_manager.launchSimulation(gui=vis, auto_step=True)\n",
    "simulation_manager.setGravity(nao_sim, [0.0, 0.0, -9.81])\n",
    "nao = None\n"
   ]
  },
  {
   "cell_type": "code",
   "execution_count": 133,
   "metadata": {},
   "outputs": [],
   "source": [
    "# Utility Functions\n",
    "# Joints to monitor\n",
    "legJoints = [ \"LHipRoll\", \"LHipPitch\", \"LKneePitch\", \"LAnklePitch\", \"LAnkleRoll\",\n",
    "              \"RHipRoll\", \"RHipPitch\", \"RKneePitch\", \"RAnklePitch\", \"RAnkleRoll\"]\n",
    "\n",
    "min_values = torch.tensor([-0.37, -1.53, -0.09, -1.18, -0.39 , -0.79, -1.53, -0.10, -1.18, -0.76], dtype=torch.float32)\n",
    "max_values = torch.tensor([ 0.79, 0.48, 2.11, 0.92, 0.76,  0.37, 0.48, 2.12, 0.93, 0.39], dtype=torch.float32)\n",
    "\n",
    "nao_prev_position_X = 0\n",
    "nao_prev_position_Y = 0\n",
    "\n",
    "prev_weight_cntr = 0\n",
    "def env_Reward():\n",
    "    global prev_weight_cntr\n",
    "    x, y, z = nao.getPosition()\n",
    "    terminated = False\n",
    "    delX = nao_prev_position_X - x \n",
    "    delY = nao_prev_position_Y - x \n",
    "    weight = -(nao.getTotalFsrValues(NaoFsr.LFOOT) + nao.getTotalFsrValues(NaoFsr.RFOOT) )\n",
    "\n",
    "    # if robot fallen down\n",
    "    if weight == 0: \n",
    "        reward = -1\n",
    "        prev_weight_cntr += 1\n",
    "    else:\n",
    "        reward = delX\n",
    "        prev_weight_cntr = 0\n",
    "\n",
    "    if prev_weight_cntr == 5:\n",
    "        terminated = True\n",
    "        prev_weight_cntr = 0\n",
    "    return reward, terminated\n",
    "\n",
    "def env_state():\n",
    "    return nao.getAnglesPosition(legJoints)\n",
    "    \n",
    "def env_action(angles, speed):\n",
    "    nao.setAngles(legJoints, angles ,speed)\n",
    "\n",
    "def env_itrm_step(itr):\n",
    "    for _ in range(itr):\n",
    "        simulation_manager.stepSimulation(nao_sim)\n",
    "\n",
    "def env_reset():\n",
    "    global nao_prev_position_X , nao_prev_position_Y\n",
    "    global nao\n",
    "    simulation_manager.resetSimulation(nao_sim)\n",
    "    simulation_manager.setGravity(nao_sim, [0.0, 0.0, -9.81])\n",
    "    nao = simulation_manager.spawnNao( \n",
    "    nao_sim,\n",
    "    translation=[0, 0, 0],quaternion=[0, 0, 0, 1],\n",
    "    spawn_ground_plane=True)\n",
    "    env_itrm_step(100)\n",
    "    nao_prev_position_X, nao_prev_position_Y, _ = nao.getPosition()\n",
    "\n",
    "\n",
    "def env_stop():\n",
    "    simulation_manager.stopSimulation(nao_sim)\n",
    "    # wait for limited iterations \n",
    "\n",
    "def env_step(angles):\n",
    "    env_action(angles, 0.1)\n",
    "    #env_itrm_step(50)\n",
    "    reward, terminated = env_Reward()\n",
    "    next_state = env_state()\n",
    "    return next_state, reward, terminated\n",
    "\n",
    "env_reset()\n",
    "    "
   ]
  },
  {
   "cell_type": "code",
   "execution_count": 134,
   "metadata": {},
   "outputs": [],
   "source": [
    "for _ in range(10):\n",
    "    state =  nao.getAnglesPosition(legJoints)\n",
    "    total_reward = 0\n",
    "    itr = 0\n",
    "    while True:\n",
    "        itr += 1\n",
    "        x = torch.tensor(state).float()\n",
    "        x = x.view(1,10)\n",
    "        next_state = Actor(x)\n",
    "        next_state = torch.clamp(next_state[0], min_values, max_values)   \n",
    "        angles = next_state.tolist()\n",
    "        #state[0] = (itr%3)/10  \n",
    "        next_state, reward, terminated = env_step(angles)\n",
    "        total_reward += reward\n",
    "        state = next_state\n",
    "        \n",
    "        time.sleep(0.5)\n",
    "        if terminated:\n",
    "            env_reset()\n",
    "            break"
   ]
  },
  {
   "cell_type": "code",
   "execution_count": 119,
   "metadata": {},
   "outputs": [],
   "source": [
    "env_reset()"
   ]
  },
  {
   "cell_type": "code",
   "execution_count": 130,
   "metadata": {},
   "outputs": [
    {
     "name": "stdout",
     "output_type": "stream",
     "text": [
      "numActiveThreads = 0\n",
      "stopping threads\n",
      "Thread with taskId 0 exiting\n",
      "Thread TERMINATED\n",
      "destroy semaphore\n",
      "semaphore destroyed\n",
      "destroy main semaphore\n",
      "main semaphore destroyed\n",
      "finished\n",
      "numActiveThreads = 0\n",
      "btShutDownExampleBrowser stopping threads\n",
      "Thread with taskId 0 exiting\n",
      "Thread TERMINATED\n",
      "destroy semaphore\n",
      "semaphore destroyed\n",
      "destroy main semaphore\n",
      "main semaphore destroyed\n"
     ]
    }
   ],
   "source": [
    "env_stop()"
   ]
  },
  {
   "cell_type": "code",
   "execution_count": null,
   "metadata": {},
   "outputs": [],
   "source": [
    "1 +1"
   ]
  },
  {
   "cell_type": "code",
   "execution_count": null,
   "metadata": {},
   "outputs": [
    {
     "data": {
      "text/plain": [
       "'2.0.1'"
      ]
     },
     "execution_count": 55,
     "metadata": {},
     "output_type": "execute_result"
    }
   ],
   "source": [
    "torch.__version__ "
   ]
  },
  {
   "cell_type": "code",
   "execution_count": null,
   "metadata": {},
   "outputs": [],
   "source": [
    "print(torch.cuda.is_available())"
   ]
  },
  {
   "cell_type": "code",
   "execution_count": 41,
   "metadata": {},
   "outputs": [
    {
     "ename": "AttributeError",
     "evalue": "'NaoVirtual' object has no attribute 'get_data'",
     "output_type": "error",
     "traceback": [
      "\u001b[0;31m---------------------------------------------------------------------------\u001b[0m",
      "\u001b[0;31mAttributeError\u001b[0m                            Traceback (most recent call last)",
      "\u001b[1;32m/home/hri/cse546_proj/nao_bullet/env.ipynb Cell 15\u001b[0m in \u001b[0;36m<cell line: 1>\u001b[0;34m()\u001b[0m\n\u001b[0;32m----> <a href='vscode-notebook-cell://wsl%2Bubuntu-18.04/home/hri/cse546_proj/nao_bullet/env.ipynb#X15sdnNjb2RlLXJlbW90ZQ%3D%3D?line=0'>1</a>\u001b[0m events \u001b[39m=\u001b[39m nao\u001b[39m.\u001b[39;49mget_data()\n",
      "\u001b[0;31mAttributeError\u001b[0m: 'NaoVirtual' object has no attribute 'get_data'"
     ]
    }
   ],
   "source": [
    "events = nao.get_data()"
   ]
  },
  {
   "cell_type": "code",
   "execution_count": 62,
   "metadata": {},
   "outputs": [
    {
     "data": {
      "text/plain": [
       "0.0"
      ]
     },
     "execution_count": 62,
     "metadata": {},
     "output_type": "execute_result"
    }
   ],
   "source": [
    "values = nao.getTotalFsrValues(NaoFsr.LFOOT)\n",
    "values"
   ]
  },
  {
   "cell_type": "code",
   "execution_count": 93,
   "metadata": {},
   "outputs": [
    {
     "data": {
      "text/plain": [
       "((9.662449090932986e-06, 4.319630726013825e-05, -3.8398855511636495e-05),\n",
       " [5.382426428431004e-10, -2.470350037125424e-10, -1.6765625098147067e-10])"
      ]
     },
     "execution_count": 93,
     "metadata": {},
     "output_type": "execute_result"
    }
   ],
   "source": [
    "nao.subscribeImu(frequency=10)\n",
    "acc_values , akak = nao.getImuValues()\n",
    "acc_values , akak"
   ]
  },
  {
   "cell_type": "code",
   "execution_count": 64,
   "metadata": {},
   "outputs": [
    {
     "data": {
      "text/plain": [
       "-0.0"
      ]
     },
     "execution_count": 64,
     "metadata": {},
     "output_type": "execute_result"
    }
   ],
   "source": [
    "value = nao.getFsrValue(NaoFsr.LFOOT_FL)\n",
    "value"
   ]
  },
  {
   "cell_type": "code",
   "execution_count": null,
   "metadata": {},
   "outputs": [],
   "source": []
  }
 ],
 "metadata": {
  "kernelspec": {
   "display_name": "nao_bullet",
   "language": "python",
   "name": "python3"
  },
  "language_info": {
   "codemirror_mode": {
    "name": "ipython",
    "version": 3
   },
   "file_extension": ".py",
   "mimetype": "text/x-python",
   "name": "python",
   "nbconvert_exporter": "python",
   "pygments_lexer": "ipython3",
   "version": "3.8.16"
  },
  "orig_nbformat": 4
 },
 "nbformat": 4,
 "nbformat_minor": 2
}
