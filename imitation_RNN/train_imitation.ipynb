{
 "cells": [
  {
   "cell_type": "code",
   "execution_count": 51,
   "metadata": {},
   "outputs": [
    {
     "name": "stdout",
     "output_type": "stream",
     "text": [
      "cuda  in use\n"
     ]
    },
    {
     "data": {
      "text/plain": [
       "<torch.autograd.anomaly_mode.set_detect_anomaly at 0x7fd6883b2f50>"
      ]
     },
     "execution_count": 51,
     "metadata": {},
     "output_type": "execute_result"
    }
   ],
   "source": [
    "import numpy as np\n",
    "import matplotlib.pyplot as plt\n",
    "\n",
    "import torch\n",
    "import torch.nn as nn\n",
    "import torch.optim as optim\n",
    "import numpy as np\n",
    "import torch.utils.data as data_utils\n",
    "\n",
    "if torch.cuda.is_available():\n",
    "  device = \"cuda\" \n",
    "else:\n",
    "  device = \"cpu\"\n",
    "device_ = torch.device(device)\n",
    "print(device, \" in use\")\n",
    "\n",
    "torch.autograd.set_detect_anomaly(True)"
   ]
  },
  {
   "cell_type": "code",
   "execution_count": 52,
   "metadata": {},
   "outputs": [
    {
     "data": {
      "text/plain": [
       "[<matplotlib.lines.Line2D at 0x7fd529615150>]"
      ]
     },
     "execution_count": 52,
     "metadata": {},
     "output_type": "execute_result"
    },
    {
     "data": {
      "image/png": "[encoded data removed]",
      "text/plain": [
       "<Figure size 640x480 with 1 Axes>"
      ]
     },
     "metadata": {},
     "output_type": "display_data"
    }
   ],
   "source": [
    "#states_1 = np.load('data_1.npy')\n",
    "#states_2 = np.load('data_2.npy')\n",
    "#states_3 = np.load('data_3.npy')\n",
    "#states_4 = np.load('data_4.npy')\n",
    "\n",
    "states_5 = np.load('data_2_025_1.npy')\n",
    "states_6 = np.load('data_2_025_2.npy')\n",
    "states_7 = np.load('data_2_025_3.npy')\n",
    "states_8 = np.load('data_2_025_4.npy')\n",
    "states_9 = np.load('data_2_025_5.npy')\n",
    "states_10 = np.load('data_2_025_6.npy')\n",
    "states_11 = np.load('data_2_025_7.npy')\n",
    "states_12 = np.load('data_2_025_8.npy')\n",
    "states_13 = np.load('data_2_025_9.npy')\n",
    "states_14 = np.load('data_2_025_10.npy')\n",
    "\n",
    "\n",
    "#states = np.concatenate((states_1, states_2, states_3, states_4, states_5, states_6, states_7, states_8, states_9, states_10, states_11, states_12, states_13, states_14), axis=0)\n",
    "states = np.concatenate(( states_5, states_6, states_7, states_8, states_9, states_10, states_11, states_12, states_13, states_14), axis=0)\n",
    "\n",
    "# print the array\n",
    "plt.plot([row[3] for row in states])"
   ]
  },
  {
   "cell_type": "code",
   "execution_count": 53,
   "metadata": {},
   "outputs": [
    {
     "data": {
      "text/plain": [
       "10"
      ]
     },
     "execution_count": 53,
     "metadata": {},
     "output_type": "execute_result"
    }
   ],
   "source": [
    "obs_space = len(states[0])\n",
    "obs_space"
   ]
  },
  {
   "attachments": {},
   "cell_type": "markdown",
   "metadata": {},
   "source": [
    "# Attempt 2\n",
    "RNN based simple model which will take state and precit next state. loss function is how good predictions are wrt collected dataset"
   ]
  },
  {
   "attachments": {},
   "cell_type": "markdown",
   "metadata": {},
   "source": [
    "# Dataloader"
   ]
  },
  {
   "cell_type": "code",
   "execution_count": 54,
   "metadata": {},
   "outputs": [],
   "source": [
    "# Define the dataset class\n",
    "class Dataset(data_utils.Dataset):\n",
    "    def __init__(self, data):\n",
    "        self.data = data\n",
    "\n",
    "    def __getitem__(self, index):\n",
    "        x = self.data[index, :]\n",
    "        y = self.data[index + 1, :]\n",
    "        return x, y\n",
    "\n",
    "    def __len__(self):\n",
    "        return 10"
   ]
  },
  {
   "cell_type": "code",
   "execution_count": 55,
   "metadata": {},
   "outputs": [],
   "source": [
    "states = Dataset(states)\n",
    "\n",
    "# Create a DataLoader object for the dataset\n",
    "batch_size = 1\n",
    "shuffle = False\n",
    "dataloader = data_utils.DataLoader(states, batch_size=batch_size, shuffle=shuffle)\n"
   ]
  },
  {
   "cell_type": "code",
   "execution_count": 56,
   "metadata": {},
   "outputs": [],
   "source": [
    "min_values = torch.tensor([-0.37, -1.53, -0.09, -1.18, -0.39 , -0.79, -1.53, -0.10, -1.18, -0.76], dtype=torch.float32)\n",
    "max_values = torch.tensor([ 0.79, 0.48, 2.11, 0.92, 0.76,  0.37, 0.48, 2.12, 0.93, 0.39], dtype=torch.float32)"
   ]
  },
  {
   "attachments": {},
   "cell_type": "markdown",
   "metadata": {},
   "source": [
    "# Model"
   ]
  },
  {
   "cell_type": "code",
   "execution_count": 57,
   "metadata": {},
   "outputs": [],
   "source": [
    "# class ActorNet(nn.Module):\n",
    "#     def __init__(self, state_dim):\n",
    "#         super(ActorNet, self).__init__()\n",
    "#         self.num_layers = 1\n",
    "#         self.hidden_dim = 128\n",
    "#         self.rnn = nn.RNN(input_size=state_dim, hidden_size=self.hidden_dim, num_layers= self.num_layers, batch_first=True)\n",
    "#         self.fc = nn.Linear(128, state_dim)\n",
    "\n",
    "#     def forward(self, state):\n",
    "#         # x has shape (batch_size, seq_len, input_dim)\n",
    "#         batch_size = 8\n",
    "        \n",
    "#         # Initialize hidden state\n",
    "#         h0 = torch.zeros( state.size(0), self.hidden_dim)\n",
    "\n",
    "#         print(h0.squeeze(1).shape)\n",
    "#         print(state.shape)\n",
    "        \n",
    "#         # Feed input through RNN\n",
    "#         out, _ = self.rnn(state, h0.squeeze(1))\n",
    "        \n",
    "#         # Apply fully connected layer\n",
    "#         out = self.fc(out)\n",
    "        \n",
    "#         return out\n",
    "    \n",
    "\n",
    "class ActorNet(nn.Module):\n",
    "    def __init__(self, input_dim, hidden_dim, output_dim):\n",
    "        super(ActorNet, self).__init__()\n",
    "        self.rnn = nn.RNN(input_dim, hidden_dim)\n",
    "        self.fc1 = nn.Linear(hidden_dim, hidden_dim)\n",
    "        self.fc2 = nn.Linear(hidden_dim, output_dim)\n",
    "\n",
    "    def forward(self, x):\n",
    "        out, _ = self.rnn(x)\n",
    "        #out = out[:, -1, :]\n",
    "        out = self.fc1(out)\n",
    "        out = self.fc2(out)\n",
    "        return out\n"
   ]
  },
  {
   "cell_type": "code",
   "execution_count": 58,
   "metadata": {},
   "outputs": [],
   "source": [
    "Actor = ActorNet(obs_space, 10, obs_space ).to(device)\n",
    "\n",
    "lr = 0.0001\n",
    "Actor_optim = optim.Adam(Actor.parameters(), lr = lr)\n",
    "\n",
    "criterion = nn.MSELoss()"
   ]
  },
  {
   "attachments": {},
   "cell_type": "markdown",
   "metadata": {},
   "source": [
    "# Train"
   ]
  },
  {
   "cell_type": "code",
   "execution_count": 67,
   "metadata": {},
   "outputs": [
    {
     "name": "stdout",
     "output_type": "stream",
     "text": [
      "Epoch 0, loss: 0.0014336507359985263\n",
      "Epoch 100, loss: 0.001397541539336089\n",
      "Epoch 200, loss: 0.001361020041804295\n",
      "Epoch 300, loss: 0.0013243585606687702\n",
      "Epoch 400, loss: 0.001287880250310991\n",
      "Epoch 500, loss: 0.0012519361829617993\n",
      "Epoch 600, loss: 0.0012168988963821904\n",
      "Epoch 700, loss: 0.0011831496667582542\n",
      "Epoch 800, loss: 0.001151043896243209\n",
      "Epoch 900, loss: 0.001120895313215442\n",
      "Epoch 1000, loss: 0.0010929505759122548\n",
      "Epoch 1100, loss: 0.0010673624830815243\n",
      "Epoch 1200, loss: 0.001044193629786605\n",
      "Epoch 1300, loss: 0.001023400946360198\n",
      "Epoch 1400, loss: 0.0010048573207313894\n",
      "Epoch 1500, loss: 0.0009883590762910898\n",
      "Epoch 1600, loss: 0.0009736670477650478\n",
      "Epoch 1700, loss: 0.0009605197914424934\n",
      "Epoch 1800, loss: 0.0009486624945566291\n",
      "Epoch 1900, loss: 0.0009378616958201746\n",
      "Epoch 2000, loss: 0.0009279127692934708\n",
      "Epoch 2100, loss: 0.0009186472107103327\n",
      "Epoch 2200, loss: 0.0009099251237785211\n",
      "Epoch 2300, loss: 0.0009016377516672947\n",
      "Epoch 2400, loss: 0.0008936960370192537\n",
      "Epoch 2500, loss: 0.000886035422081477\n",
      "Epoch 2600, loss: 0.0008786046517343493\n",
      "Epoch 2700, loss: 0.0008713610415725271\n",
      "Epoch 2800, loss: 0.0008642774551844923\n",
      "Epoch 2900, loss: 0.0008573262271966087\n",
      "Epoch 3000, loss: 0.0008504894936777419\n",
      "Epoch 3100, loss: 0.0008437545122433221\n",
      "Epoch 3200, loss: 0.000837107063489384\n",
      "Epoch 3300, loss: 0.0008305382954858942\n",
      "Epoch 3400, loss: 0.0008240391340223141\n",
      "Epoch 3500, loss: 0.0008176023715350311\n",
      "Epoch 3600, loss: 0.0008112230643746443\n",
      "Epoch 3700, loss: 0.0008048948919167742\n",
      "Epoch 3800, loss: 0.0007986129519849782\n",
      "Epoch 3900, loss: 0.0007923748780740425\n",
      "Epoch 4000, loss: 0.000786173631058773\n",
      "Epoch 4100, loss: 0.0007800090625096345\n",
      "Epoch 4200, loss: 0.000773874990773038\n",
      "Epoch 4300, loss: 0.0007677712666918524\n",
      "Epoch 4400, loss: 0.0007616950686497148\n",
      "Epoch 4500, loss: 0.0007556386663054582\n",
      "Epoch 4600, loss: 0.0007496049423934892\n",
      "Epoch 4700, loss: 0.000743588776094839\n",
      "Epoch 4800, loss: 0.0007375893954304046\n",
      "Epoch 4900, loss: 0.0007316041534068063\n"
     ]
    }
   ],
   "source": [
    "running_loss = 0.0\n",
    "Actor.train()\n",
    "for epoch in range(5000):\n",
    "    running_loss = 0.0\n",
    "    for i, (x, y) in enumerate(dataloader):\n",
    "        Actor_optim.zero_grad()\n",
    "        \n",
    "        x_clamped = torch.clamp(x, min_values, max_values)\n",
    "        y_pred = Actor(x_clamped.to(device).float())\n",
    "\n",
    "\n",
    "        loss = criterion(y_pred, y.to(device).float())\n",
    "\n",
    "        loss.backward()\n",
    "\n",
    "        Actor_optim.step()\n",
    "\n",
    "        running_loss += loss.item()\n",
    "    \n",
    "    if (epoch)%100 == 0:\n",
    "        print(f\"Epoch {epoch}, loss: {running_loss/len(dataloader)}\")\n",
    "    \n",
    "\n"
   ]
  },
  {
   "cell_type": "code",
   "execution_count": 60,
   "metadata": {},
   "outputs": [
    {
     "data": {
      "text/plain": [
       "tensor([[-0.0567, -0.4370,  0.9245, -0.4929,  0.1021, -0.1004, -0.4324,  1.2070,\n",
       "         -0.7883,  0.1124]], device='cuda:0', grad_fn=<AddmmBackward0>)"
      ]
     },
     "execution_count": 60,
     "metadata": {},
     "output_type": "execute_result"
    }
   ],
   "source": [
    "x = torch.tensor([ 0.07674193, -0.4862361 ,  0.91115403, -0.41728997, -0.078192  ,\n",
    "         0.09514999, -0.21940398,  0.84220791, -0.61355805, -0.09046412]).to(device)\n",
    "x = x.view(1,10)\n",
    "Actor(x)"
   ]
  },
  {
   "attachments": {},
   "cell_type": "markdown",
   "metadata": {},
   "source": [
    "# Evaluate"
   ]
  },
  {
   "cell_type": "code",
   "execution_count": 61,
   "metadata": {},
   "outputs": [],
   "source": [
    "eval_states = np.load('data_5.npy')\n",
    "eval_states = Dataset(eval_states)\n",
    "\n",
    "dataloader = data_utils.DataLoader(eval_states, batch_size=batch_size, shuffle=shuffle)"
   ]
  },
  {
   "cell_type": "code",
   "execution_count": 68,
   "metadata": {},
   "outputs": [
    {
     "name": "stdout",
     "output_type": "stream",
     "text": [
      "Average loss: 0.0007\n"
     ]
    }
   ],
   "source": [
    "Actor.eval()\n",
    "\n",
    "total_loss = 0.0\n",
    "num_correct = 0\n",
    "\n",
    "with torch.no_grad():\n",
    "    for states, next_state in dataloader:\n",
    "        next_state_pred = Actor(states.to(device).float())\n",
    "        loss = criterion(next_state_pred, next_state.to(device).float())\n",
    "        total_loss += loss.item() * len(states)\n",
    "        \n",
    "avg_loss = total_loss / len(dataloader)\n",
    "\n",
    "print(f\"Average loss: {avg_loss:.4f}\")\n"
   ]
  },
  {
   "attachments": {},
   "cell_type": "markdown",
   "metadata": {},
   "source": [
    "# Save Model"
   ]
  },
  {
   "cell_type": "code",
   "execution_count": 39,
   "metadata": {},
   "outputs": [],
   "source": [
    "torch.save(Actor.state_dict(), 'model_weights_day3_1.pth')"
   ]
  },
  {
   "cell_type": "code",
   "execution_count": null,
   "metadata": {},
   "outputs": [],
   "source": []
  }
 ],
 "metadata": {
  "kernelspec": {
   "display_name": "Python 3",
   "language": "python",
   "name": "python3"
  },
  "language_info": {
   "codemirror_mode": {
    "name": "ipython",
    "version": 3
   },
   "file_extension": ".py",
   "mimetype": "text/x-python",
   "name": "python",
   "nbconvert_exporter": "python",
   "pygments_lexer": "ipython3",
   "version": "3.11.2"
  },
  "orig_nbformat": 4
 },
 "nbformat": 4,
 "nbformat_minor": 2
}
