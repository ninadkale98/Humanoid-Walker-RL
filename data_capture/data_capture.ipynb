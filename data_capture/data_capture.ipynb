{
 "cells": [
  {
   "cell_type": "code",
   "execution_count": 15,
   "metadata": {},
   "outputs": [],
   "source": [
    "from naoqi import ALProxy\n",
    "import almath\n",
    "import motion\n",
    "import time\n",
    "import signal\n",
    "import matplotlib.pyplot as plt\n",
    "import numpy as np"
   ]
  },
  {
   "cell_type": "code",
   "execution_count": 16,
   "metadata": {},
   "outputs": [],
   "source": [
    "# Nao configurations\n",
    "ip = \"10.0.255.22\"  # laptop-ti0kt4lp.local. for simulations\n",
    "port = 9559\n",
    "fractionMaxSpeed = 0.1\n",
    "run = True"
   ]
  },
  {
   "cell_type": "code",
   "execution_count": 17,
   "metadata": {},
   "outputs": [],
   "source": [
    "# Proxies\n",
    "motion_proxy = ALProxy(\"ALMotion\" , ip, port)\n",
    "init_proxy = ALProxy(\"ALRobotPosture\" , ip, port)\n",
    "memory_Proxy = ALProxy(\"ALMemory\", ip, port)\n"
   ]
  },
  {
   "cell_type": "code",
   "execution_count": 8,
   "metadata": {},
   "outputs": [
    {
     "data": {
      "text/plain": [
       "<function signal.default_int_handler>"
      ]
     },
     "execution_count": 8,
     "metadata": {},
     "output_type": "execute_result"
    }
   ],
   "source": [
    "# Cntrl + C ISR\n",
    "def handler(signum, frame):\n",
    "    global run\n",
    "    run = False\n",
    "    print(\"Ending experiments\")\n",
    "signal.signal(signal.SIGINT, handler)"
   ]
  },
  {
   "cell_type": "code",
   "execution_count": 9,
   "metadata": {},
   "outputs": [],
   "source": [
    "# Init Pose\n",
    "def init_pose():\n",
    "    print(\" Getting in init position, wait 5sec\")\n",
    "    init_proxy.goToPosture(\"StandInit\", 1.0)\n",
    "    motion_proxy.moveInit()\n",
    "    time.sleep(5)"
   ]
  },
  {
   "cell_type": "code",
   "execution_count": 10,
   "metadata": {},
   "outputs": [],
   "source": [
    "\n",
    "# Joints to monitor\n",
    "legJoints = [ \"LHipRoll\", \"LHipPitch\", \"LKneePitch\", \"LAnklePitch\", \"LAnkleRoll\",\n",
    "              \"RHipRoll\", \"RHipPitch\", \"RKneePitch\", \"RAnklePitch\", \"RAnkleRoll\"]\n"
   ]
  },
  {
   "cell_type": "code",
   "execution_count": 30,
   "metadata": {},
   "outputs": [],
   "source": [
    "states = []"
   ]
  },
  {
   "attachments": {},
   "cell_type": "markdown",
   "metadata": {},
   "source": [
    "# Data collection"
   ]
  },
  {
   "cell_type": "code",
   "execution_count": 18,
   "metadata": {},
   "outputs": [
    {
     "name": "stdout",
     "output_type": "stream",
     "text": [
      " Getting in init position, wait 5sec\n"
     ]
    }
   ],
   "source": [
    "init_pose()"
   ]
  },
  {
   "cell_type": "code",
   "execution_count": 14,
   "metadata": {},
   "outputs": [],
   "source": [
    "motion_proxy.moveToward(0.0, 0.0,0.0)"
   ]
  },
  {
   "cell_type": "code",
   "execution_count": 96,
   "metadata": {},
   "outputs": [
    {
     "ename": "KeyboardInterrupt",
     "evalue": "",
     "output_type": "error",
     "traceback": [
      "\u001b[0;31m\u001b[0m",
      "\u001b[0;31mKeyboardInterrupt\u001b[0mTraceback (most recent call last)",
      "\u001b[0;32m<ipython-input-96-18aa5076da51>\u001b[0m in \u001b[0;36m<module>\u001b[0;34m()\u001b[0m\n\u001b[1;32m      7\u001b[0m     \u001b[0mjoint_states\u001b[0m \u001b[0;34m=\u001b[0m \u001b[0mmotion_proxy\u001b[0m\u001b[0;34m.\u001b[0m\u001b[0mgetAngles\u001b[0m\u001b[0;34m(\u001b[0m\u001b[0mlegJoints\u001b[0m\u001b[0;34m,\u001b[0m \u001b[0mTrue\u001b[0m\u001b[0;34m)\u001b[0m\u001b[0;34m\u001b[0m\u001b[0m\n\u001b[1;32m      8\u001b[0m     \u001b[0mstates\u001b[0m\u001b[0;34m.\u001b[0m\u001b[0mappend\u001b[0m\u001b[0;34m(\u001b[0m\u001b[0mjoint_states\u001b[0m\u001b[0;34m)\u001b[0m\u001b[0;34m\u001b[0m\u001b[0m\n\u001b[0;32m----> 9\u001b[0;31m     \u001b[0mtime\u001b[0m\u001b[0;34m.\u001b[0m\u001b[0msleep\u001b[0m\u001b[0;34m(\u001b[0m\u001b[0;36m0.25\u001b[0m\u001b[0;34m)\u001b[0m\u001b[0;34m\u001b[0m\u001b[0m\n\u001b[0m",
      "\u001b[0;31mKeyboardInterrupt\u001b[0m: "
     ]
    }
   ],
   "source": [
    "# init_pose()\n",
    "\n",
    "# Start Walking\n",
    "motion_proxy.move(0.3, 0.0, -0.065)\n",
    "\n",
    "while run:\n",
    "    joint_states = motion_proxy.getAngles(legJoints, True)\n",
    "    states.append(joint_states)\n",
    "    time.sleep(0.25)"
   ]
  },
  {
   "cell_type": "code",
   "execution_count": 97,
   "metadata": {},
   "outputs": [
    {
     "data": {
      "text/plain": [
       "True"
      ]
     },
     "execution_count": 97,
     "metadata": {},
     "output_type": "execute_result"
    }
   ],
   "source": [
    "motion_proxy.stopMove()"
   ]
  },
  {
   "attachments": {},
   "cell_type": "markdown",
   "metadata": {},
   "source": [
    "# Save data in NPY format"
   ]
  },
  {
   "cell_type": "code",
   "execution_count": 94,
   "metadata": {},
   "outputs": [],
   "source": [
    "dataset = np.array(states)\n",
    "\n",
    "# Save the NumPy array to an NPY file\n",
    "np.save('data_2_025_10.npy', dataset)"
   ]
  },
  {
   "cell_type": "code",
   "execution_count": 56,
   "metadata": {},
   "outputs": [
    {
     "data": {
      "text/plain": [
       "970"
      ]
     },
     "execution_count": 56,
     "metadata": {},
     "output_type": "execute_result"
    }
   ],
   "source": [
    "len(states)"
   ]
  },
  {
   "cell_type": "code",
   "execution_count": 35,
   "metadata": {},
   "outputs": [
    {
     "data": {
      "text/plain": [
       "[<matplotlib.lines.Line2D at 0x7f4fc0711f50>]"
      ]
     },
     "execution_count": 35,
     "metadata": {},
     "output_type": "execute_result"
    },
    {
     "data": {
      "image/png": "[encoded data removed]",
      "text/plain": [
       "<Figure size 432x288 with 1 Axes>"
      ]
     },
     "metadata": {
      "needs_background": "light"
     },
     "output_type": "display_data"
    }
   ],
   "source": [
    "loaded_state = np.load('data_5.npy')\n",
    "\n",
    "# print the array\n",
    "plt.plot([row[3] for row in loaded_state])\n"
   ]
  },
  {
   "cell_type": "code",
   "execution_count": 40,
   "metadata": {},
   "outputs": [
    {
     "name": "stdout",
     "output_type": "stream",
     "text": [
      "0.17031598091125488\n",
      "-0.12114405632019043\n",
      "1.2532360553741455\n",
      "-0.2286078929901123\n",
      "0.127363920211792\n",
      "0.1503739356994629\n",
      "-0.09821796417236328\n",
      "1.2640581130981445\n",
      "-0.3021559715270996\n",
      "0.12429594993591309\n"
     ]
    }
   ],
   "source": [
    "for i in range(10):\n",
    "    print(max(loaded_state[:, i]) )"
   ]
  },
  {
   "cell_type": "code",
   "execution_count": 41,
   "metadata": {},
   "outputs": [
    {
     "name": "stdout",
     "output_type": "stream",
     "text": [
      "-0.09506607055664062\n",
      "-0.6887240409851074\n",
      "0.7715599536895752\n",
      "-0.7501680850982666\n",
      "-0.17176604270935059\n",
      "-0.12267804145812988\n",
      "-0.6029040813446045\n",
      "0.7777800559997559\n",
      "-0.797637939453125\n",
      "-0.17176604270935059\n"
     ]
    }
   ],
   "source": [
    "for i in range(10):\n",
    "    print(min(loaded_state[:, i]) )"
   ]
  },
  {
   "cell_type": "markdown",
   "metadata": {},
   "source": []
  }
 ],
 "metadata": {
  "kernelspec": {
   "display_name": "Python 3",
   "language": "python",
   "name": "python3"
  },
  "language_info": {
   "codemirror_mode": {
    "name": "ipython",
    "version": 2
   },
   "file_extension": ".py",
   "mimetype": "text/x-python",
   "name": "python",
   "nbconvert_exporter": "python",
   "pygments_lexer": "ipython2",
   "version": "2.7.17"
  },
  "orig_nbformat": 4
 },
 "nbformat": 4,
 "nbformat_minor": 2
}
